{
 "cells": [
  {
   "cell_type": "code",
   "execution_count": 310,
   "metadata": {},
   "outputs": [],
   "source": [
    "import numpy as np\n",
    "import matplotlib.pyplot as plt\n",
    "import pylcp as pp\n",
    "import pandas as pd\n",
    "decays = pd.read_parquet('decays_ac.parquet')\n",
    "df_ac = pd.read_excel('acditransitions.xlsx')"
   ]
  },
  {
   "cell_type": "code",
   "execution_count": 311,
   "metadata": {},
   "outputs": [
    {
     "data": {
      "text/plain": [
       "[11594.54, 16944.85]"
      ]
     },
     "execution_count": 311,
     "metadata": {},
     "output_type": "execute_result"
    }
   ],
   "source": [
    "aalt"
   ]
  },
  {
   "cell_type": "code",
   "execution_count": 312,
   "metadata": {},
   "outputs": [],
   "source": [
    "alpha = 1/137\n",
    "Rc = ((4/3)*(alpha/219745)**3)*(1/(2.418e-17))\n",
    "def g(i,j,med,jj):\n",
    "    '''\n",
    "    This allows for the cacultation of the decay rate in units of hz\n",
    "\n",
    "    i(flaot): this is the inintial energy levels ,units are cm^-1\n",
    "    j(float):this is the level that it decays to in: cm^-2u\n",
    "    med(float): dipole matrix elemnet in atomic units \n",
    "    jj(int): this it the total angular momentum\n",
    "    '''\n",
    "    a = ((i-j)**3)*(med)**2/(2*jj + 1)\n",
    "    return a*Rc"
   ]
  },
  {
   "cell_type": "code",
   "execution_count": 313,
   "metadata": {},
   "outputs": [
    {
     "name": "stdout",
     "output_type": "stream",
     "text": [
      "128\n"
     ]
    }
   ],
   "source": [
    "fff = []\n",
    "aalt = [11594.54, 16944.85, 35850.31] \n",
    "M = 0\n",
    "for i in aalt:\n",
    "    H = decays[decays['E'] == i]['HF'].tolist()[0]\n",
    "    for j in H:\n",
    "        if j == 0:\n",
    "            fff.append([M,j,0])  \n",
    "        else:        \n",
    "            for k in range(-j,j+1):\n",
    "                 fff.append([M,j,k])\n",
    "    M = M+1\n",
    "print(len(fff))"
   ]
  },
  {
   "cell_type": "code",
   "execution_count": 314,
   "metadata": {},
   "outputs": [
    {
     "data": {
      "text/plain": [
       "[0.77879]"
      ]
     },
     "execution_count": 314,
     "metadata": {},
     "output_type": "execute_result"
    }
   ],
   "source": [
    "df_ac[(df_ac['E1'] == 16944.85) & (df_ac['E2'] == 35850.31)]['Med'].tolist()"
   ]
  },
  {
   "cell_type": "code",
   "execution_count": 315,
   "metadata": {},
   "outputs": [],
   "source": [
    " gr = []\n",
    " aalt = [11594.54, 16944.85]\n",
    " for i in aalt: \n",
    "    c =  df_ac[(df_ac['E1'] == i) & (df_ac['E2'] == 35850.31)]['Med'].tolist()[0]\n",
    "    jj =    jj = decays[decays['E'] == i]['j'].tolist()[0]\n",
    "    gr.append(g(35850.31,i,c,jj)) \n"
   ]
  },
  {
   "cell_type": "code",
   "execution_count": 316,
   "metadata": {},
   "outputs": [],
   "source": [
    "det = 1\n",
    "alpha = 1.0\n",
    "I = 3/2\n",
    "gj = 1.3126\n",
    "gI  =  1.1/3.15245e-14*3/2\n",
    "AHFS = (0.1712168e4)*10**6"
   ]
  },
  {
   "cell_type": "code",
   "execution_count": 317,
   "metadata": {},
   "outputs": [],
   "source": [
    "I = 3/2\n",
    "H_3,m_3 = pp.hamiltonians.hyperfine_coupled(11/2,I,gj,gI,AHFS)\n",
    "H_2,m_2 = pp.hamiltonians.hyperfine_coupled(9/2,I,gj,gI,(0.1712168e4)*10**5)\n",
    "H_1,m_1 = pp.hamiltonians.hyperfine_coupled(9/2,I,gj,gI,(0.1712168e4)*10**6)\n",
    "dq13 = pp.hamiltonians.dqij_two_hyperfine_manifolds(9/2,11/2,I)\n",
    "dq12 = pp.hamiltonians.dqij_two_hyperfine_manifolds(9/2,11/2,I)"
   ]
  },
  {
   "cell_type": "code",
   "execution_count": 318,
   "metadata": {},
   "outputs": [],
   "source": [
    "hamiltonians_ac_a = pp.hamiltonian()\n",
    "hamiltonians_ac_a.add_H_0_block('H_1', H_1)\n",
    "hamiltonians_ac_a.add_H_0_block('H_2', H_2)\n",
    "hamiltonians_ac_a.add_H_0_block('H_3', H_3)\n",
    "hamiltonians_ac_a.add_d_q_block('H_2','H_3',dq12, gamma = gr[1])\n",
    "hamiltonians_ac_a.add_d_q_block('H_1','H_3',dq13, gamma = gr[0] )\n",
    "magField = lambda R:np.zeros(R.shape)"
   ]
  },
  {
   "cell_type": "markdown",
   "metadata": {},
   "source": []
  },
  {
   "cell_type": "code",
   "execution_count": 319,
   "metadata": {},
   "outputs": [
    {
     "data": {
      "text/html": [
       "<div>\n",
       "<style scoped>\n",
       "    .dataframe tbody tr th:only-of-type {\n",
       "        vertical-align: middle;\n",
       "    }\n",
       "\n",
       "    .dataframe tbody tr th {\n",
       "        vertical-align: top;\n",
       "    }\n",
       "\n",
       "    .dataframe thead th {\n",
       "        text-align: right;\n",
       "    }\n",
       "</style>\n",
       "<table border=\"1\" class=\"dataframe\">\n",
       "  <thead>\n",
       "    <tr style=\"text-align: right;\">\n",
       "      <th></th>\n",
       "      <th>E</th>\n",
       "      <th>j</th>\n",
       "      <th>gamma</th>\n",
       "      <th>g</th>\n",
       "      <th>allowed transitions</th>\n",
       "      <th>HF</th>\n",
       "    </tr>\n",
       "  </thead>\n",
       "  <tbody>\n",
       "    <tr>\n",
       "      <th>75</th>\n",
       "      <td>35850.31</td>\n",
       "      <td>5.5</td>\n",
       "      <td>8.492392e+07</td>\n",
       "      <td>1.3126</td>\n",
       "      <td>[11594.54, 16944.85, 25183.8, 27716.6, 32603.0...</td>\n",
       "      <td>[4, 5, 6, 7]</td>\n",
       "    </tr>\n",
       "  </tbody>\n",
       "</table>\n",
       "</div>"
      ],
      "text/plain": [
       "           E    j         gamma       g  \\\n",
       "75  35850.31  5.5  8.492392e+07  1.3126   \n",
       "\n",
       "                                  allowed transitions            HF  \n",
       "75  [11594.54, 16944.85, 25183.8, 27716.6, 32603.0...  [4, 5, 6, 7]  "
      ]
     },
     "execution_count": 319,
     "metadata": {},
     "output_type": "execute_result"
    }
   ],
   "source": [
    "decays[decays['E'] == 35850.31]"
   ]
  },
  {
   "cell_type": "code",
   "execution_count": 320,
   "metadata": {},
   "outputs": [],
   "source": [
    "e1 = np.unique(np.diagonal(H_1))\n",
    "e2 = np.unique(np.diagonal(H_2))\n",
    "e3 = np.unique(np.diagonal(H_3))\n",
    "e1 = e3[1] - e1[3] \n",
    "\n",
    "def laser(delta,delta1,s1,s2,s3):\n",
    "  laserbeam = {}\n",
    "  laserbeam['H_1->H_3'] = pp.laserBeams(\n",
    "        [{'kvec':np.array([1., 0., 0.]), 'pol':np.array([0, 1, 0.]),\n",
    "          'pol_coord':'cartesian', 'delta':delta, 's':s1}],\n",
    "        beam_type= pp.infinitePlaneWaveBeam)\n",
    "  laserbeam['H_2->H_3'] = pp.laserBeams([{'kvec':np.array([0, 0, 1]), 'pol':np.array([0,0,1]),\n",
    "       'pol_coord':'spherical', 'delta':delta1, 's':s3}],beam_type =  pp.infinitePlaneWaveBeam)\n",
    "  #laserbeam['H_17->H_34'] = pp.laserBeams([{'kvec':np.array([0, 0, 1]), 'pol':np.array([0,0,1]),\n",
    "       #'pol_coord':'spherical', 'delta':delta1, 's':s3}],beam_type =  pp.infinitePlaneWaveBeam)#s3 adds a re\n",
    "  return laserbeam"
   ]
  },
  {
   "cell_type": "code",
   "execution_count": 321,
   "metadata": {},
   "outputs": [
    {
     "data": {
      "text/plain": [
       "0.001"
      ]
     },
     "execution_count": 321,
     "metadata": {},
     "output_type": "execute_result"
    }
   ],
   "source": [
    "t_0"
   ]
  },
  {
   "cell_type": "code",
   "execution_count": 322,
   "metadata": {},
   "outputs": [
    {
     "data": {
      "text/html": [
       "<div>\n",
       "<style scoped>\n",
       "    .dataframe tbody tr th:only-of-type {\n",
       "        vertical-align: middle;\n",
       "    }\n",
       "\n",
       "    .dataframe tbody tr th {\n",
       "        vertical-align: top;\n",
       "    }\n",
       "\n",
       "    .dataframe thead th {\n",
       "        text-align: right;\n",
       "    }\n",
       "</style>\n",
       "<table border=\"1\" class=\"dataframe\">\n",
       "  <thead>\n",
       "    <tr style=\"text-align: right;\">\n",
       "      <th></th>\n",
       "      <th>E</th>\n",
       "      <th>j</th>\n",
       "      <th>gamma</th>\n",
       "      <th>g</th>\n",
       "      <th>allowed transitions</th>\n",
       "      <th>HF</th>\n",
       "    </tr>\n",
       "  </thead>\n",
       "  <tbody>\n",
       "    <tr>\n",
       "      <th>75</th>\n",
       "      <td>35850.31</td>\n",
       "      <td>5.5</td>\n",
       "      <td>8.492392e+07</td>\n",
       "      <td>1.3126</td>\n",
       "      <td>[11594.54, 16944.85, 25183.8, 27716.6, 32603.0...</td>\n",
       "      <td>[4, 5, 6, 7]</td>\n",
       "    </tr>\n",
       "  </tbody>\n",
       "</table>\n",
       "</div>"
      ],
      "text/plain": [
       "           E    j         gamma       g  \\\n",
       "75  35850.31  5.5  8.492392e+07  1.3126   \n",
       "\n",
       "                                  allowed transitions            HF  \n",
       "75  [11594.54, 16944.85, 25183.8, 27716.6, 32603.0...  [4, 5, 6, 7]  "
      ]
     },
     "execution_count": 322,
     "metadata": {},
     "output_type": "execute_result"
    }
   ],
   "source": [
    "decays[decays['E'] == 35850.31]\n"
   ]
  },
  {
   "cell_type": "code",
   "execution_count": 323,
   "metadata": {},
   "outputs": [],
   "source": [
    "laserbeam  = laser(e1,e1,0,0,0)\n",
    "rateeq = pp.rateeq(laserbeam,magField,hamiltonians_ac_a)"
   ]
  },
  {
   "cell_type": "code",
   "execution_count": 324,
   "metadata": {},
   "outputs": [
    {
     "data": {
      "text/plain": [
       "  message: The solver successfully reached the end of the integration interval.\n",
       "  success: True\n",
       "   status: 0\n",
       "        t: [ 0.000e+00  1.003e-11 ...  5.000e-04  5.000e-04]\n",
       "        y: [[ 0.000e+00  0.000e+00 ...  0.000e+00  0.000e+00]\n",
       "            [ 0.000e+00  0.000e+00 ...  0.000e+00  0.000e+00]\n",
       "            ...\n",
       "            [ 0.000e+00  0.000e+00 ...  0.000e+00  0.000e+00]\n",
       "            [ 1.000e+00  9.990e-01 ...  5.188e-06  1.091e-06]]\n",
       "      sol: None\n",
       " t_events: None\n",
       " y_events: None\n",
       "     nfev: 101780\n",
       "     njev: 0\n",
       "      nlu: 0"
      ]
     },
     "execution_count": 324,
     "metadata": {},
     "output_type": "execute_result"
    }
   ],
   "source": [
    "t_0 = 1e-3\n",
    "N0  = np.zeros((rateeq.hamiltonian.n,))\n",
    "N0[127] = 1\n",
    "rateeq.set_initial_pop(N0)\n",
    "rateeq.evolve_populations([0,0.0000005/t_0],max_step=1)"
   ]
  },
  {
   "cell_type": "code",
   "execution_count": 327,
   "metadata": {},
   "outputs": [
    {
     "data": {
      "image/png": "[encoded data removed]",
      "text/plain": [
       "<Figure size 640x480 with 1 Axes>"
      ]
     },
     "metadata": {},
     "output_type": "display_data"
    }
   ],
   "source": [
    "# this plots the rate eqautions to visualize population evolution this will be filterd based on levels that don't get more thana certain population  \n",
    "import matplotlib.colors as mcolors\n",
    "\n",
    "used_colors = set()\n",
    "\n",
    "def get_distinct_color():\n",
    "    base_colors = list(mcolors.TABLEAU_COLORS.values())  # You can use other color palettes as well\n",
    "    available_colors = [color for color in base_colors if color not in used_colors]\n",
    "\n",
    "    if not available_colors:\n",
    "        # Reset used_colors if all colors have been used\n",
    "        used_colors.clear()\n",
    "        available_colors = base_colors\n",
    "\n",
    "    color = available_colors[0]\n",
    "    used_colors.add(color)\n",
    "    return color\n",
    " \n",
    "import matplotlib.pyplot as plt\n",
    "\n",
    "fig, ax = plt.subplots(1, 1)\n",
    "\n",
    "i = 0\n",
    "ee = 1\n",
    "R = []\n",
    "spec = [159, 383, 927]\n",
    "for bob in range(len(rateeq.sol.y)):\n",
    "    ee = fff[bob][0]\n",
    "    ff = fff[bob][1]\n",
    "    m = fff[bob][2]\n",
    "    k = rateeq.sol.y[bob][100]\n",
    "    ll = rateeq.sol.y[bob][0]\n",
    "\n",
    "    # Get a distinct color\n",
    "\n",
    "\n",
    "    # Plot only if k > 0.01\n",
    "    if  ll == 1 or k > 0.001:\n",
    "        color = get_distinct_color()\n",
    "        ax.plot(1e9*t_0*rateeq.sol.t[:], rateeq.sol.y[bob,],'--',color = color, linewidth=1.0,\n",
    "                label='|' + ','.join([str(ee), str(ff), str(m), str(bob)]) + '>')\n",
    "        i += 3\n",
    "\n",
    "plt.legend(fontsize='7.8', loc='upper right')\n",
    "plt.title('Cooling Ac-227')\n",
    "plt.xlabel('t ($n$s)')\n",
    "plt.ylabel('N')\n",
    "plt.show()\n"
   ]
  },
  {
   "cell_type": "code",
   "execution_count": null,
   "metadata": {},
   "outputs": [],
   "source": []
  },
  {
   "cell_type": "code",
   "execution_count": null,
   "metadata": {},
   "outputs": [],
   "source": []
  }
 ],
 "metadata": {
  "kernelspec": {
   "display_name": "Python 3",
   "language": "python",
   "name": "python3"
  },
  "language_info": {
   "codemirror_mode": {
    "name": "ipython",
    "version": 3
   },
   "file_extension": ".py",
   "mimetype": "text/x-python",
   "name": "python",
   "nbconvert_exporter": "python",
   "pygments_lexer": "ipython3",
   "version": "3.12.3"
  }
 },
 "nbformat": 4,
 "nbformat_minor": 2
}
