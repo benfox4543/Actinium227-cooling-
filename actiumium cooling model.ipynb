{
 "cells": [
  {
   "cell_type": "code",
   "execution_count": 6,
   "metadata": {},
   "outputs": [],
   "source": [
    "#the mdoel is utilsisng the pylcp package as the mmain package doing the calculations for the model the others are basic inbuilt packages\n",
    "#the two data frames are decasy which a caculation of all the energy levels decay rates. \n",
    "# the others is all the possible decay rate from each levels and there corrosponidng decay rates\n",
    "#functools packaga use cache \n",
    "#put this when ussing the compute- Users/ucapbfb/\n",
    "import numpy as np\n",
    "import matplotlib.pyplot as plt\n",
    "import pylcp as pp\n",
    "import scipy.constants as sp\n",
    "import pandas as pd\n",
    "import random\n",
    "import pandas as pd\n",
    "from fractions import Fraction\n",
    "import matplotlib.colors as mcolors\n",
    "decays = pd.read_parquet('users/ucapbfb/decays_ac.parquet')\n",
    "df_ac = pd.read_excel('users/ucapbfb/acditransitions.xlsx')\n",
    "gamma_r = 99569919.76594706/1000\n",
    "\n"
   ]
  },
  {
   "cell_type": "code",
   "execution_count": 7,
   "metadata": {},
   "outputs": [],
   "source": [
    "46960 - 21583.8\n",
    "\n",
    "used_colors = set()\n",
    "\n",
    "def get_distinct_color():\n",
    "    '''\n",
    "    this is a function which allows for a distinct coloru to used to plot a graph in python\n",
    "    there are so many plots for the rate eqaution for each m_f lavel that it was needed\n",
    "    '''\n",
    "    base_colors = list(mcolors.TABLEAU_COLORS.values())  # You can use other color palettes as well\n",
    "    available_colors = [color for color in base_colors if color not in used_colors]\n",
    "\n",
    "    if not available_colors:\n",
    "        # Reset used_colors if all colors have been used\n",
    "        used_colors.clear()\n",
    "        available_colors = base_colors\n",
    "\n",
    "    color = available_colors[0]\n",
    "    used_colors.add(color)\n",
    "    return color"
   ]
  },
  {
   "cell_type": "code",
   "execution_count": 8,
   "metadata": {},
   "outputs": [],
   "source": [
    "\n",
    "used_colors = set()\n",
    "\n",
    "def get_distinct_color():\n",
    "    '''\n",
    "    this is a function which allows for a distinct coloru to used to plot a graph in python\n",
    "    there are so many plots for the rate eqaution for each m_f lavel that it was needed\n",
    "    '''\n",
    "    base_colors = list(mcolors.TABLEAU_COLORS.values())  # You can use other color palettes as well\n",
    "    available_colors = [color for color in base_colors if color not in used_colors]\n",
    "\n",
    "    if not available_colors:\n",
    "        # Reset used_colors if all colors have been used\n",
    "        used_colors.clear()\n",
    "        available_colors = base_colors\n",
    "\n",
    "    color = available_colors[0]\n",
    "    used_colors.add(color)\n",
    "    return color"
   ]
  },
  {
   "cell_type": "code",
   "execution_count": 9,
   "metadata": {},
   "outputs": [],
   "source": [
    "#alpha is fine structre constant and rc is a unit conversion form au to hz\n",
    "alpha = 1/137\n",
    "Rc = ((4/3)*(alpha/219745)**3)*(1/(2.418e-17))\n",
    "\n",
    "def g(i,j,med,jj):\n",
    "    '''\n",
    "    This allows for the cacultation of the decay rate in units of hz\n",
    "    variables:\n",
    "    i(flaot): this is the inintial energy levels ,units are cm^-1\n",
    "    j(float):this is the level that it decays to in: cm^-2u\n",
    "    med(float): dipole matrix elemnet in atomic units \n",
    "    jj(int): this it the total angular momentum of the upper level\n",
    "    '''\n",
    "    a = ((i-j)**3)*(med)**2/(2*jj + 1)\n",
    "    return a*Rc"
   ]
  },
  {
   "cell_type": "code",
   "execution_count": 10,
   "metadata": {},
   "outputs": [],
   "source": [
    "def med(i,j):\n",
    "        '''\n",
    "        This returning the dipole matrix elemnt from a pandas data\n",
    "        i: final level  units cm^-1\n",
    "        j: intial level units cm^-1        \n",
    "        '''\n",
    "        Eo = df_ac['E1'].tolist()\n",
    "        if  i in Eo:\n",
    "            c =  df_ac[(df_ac['E1'] == i) & (df_ac['E2'] == j)]['Med'].tolist()[0]# matrix dipole element for the pscific energy level\n",
    "        if j in Eo:\n",
    "            c =  df_ac[(df_ac['E2'] == i) & (df_ac['E1'] == j)]['Med'].tolist()[0]\n",
    "        return c\n"
   ]
  },
  {
   "cell_type": "code",
   "execution_count": 11,
   "metadata": {},
   "outputs": [],
   "source": [
    "high_e_states = []\n",
    "for i in decays[decays['E'] == 25183.8]['allowed transitions'].tolist()[0]:\n",
    "    if i > 25183.8:\n",
    "            high_e_states.append(i)"
   ]
  },
  {
   "cell_type": "code",
   "execution_count": 12,
   "metadata": {},
   "outputs": [],
   "source": [
    "    gr = 0\n",
    "    grl = []\n",
    "    for i in high_e_states:\n",
    "        jj = decays[decays['E'] == i]['j'].tolist()[0]\n",
    "        for j in decays[decays['E'] == i]['allowed transitions'].tolist()[0]:\n",
    "            if j < i:\n",
    "                gr = gr + g(i,j,med(i,j),jj)\n",
    "        lt =  g(i,11594.54,med(i,11594.54),jj)\n",
    "        grl.append([i,gr/1e6,(lt/gr)*100])\n",
    "            "
   ]
  },
  {
   "cell_type": "code",
   "execution_count": 13,
   "metadata": {},
   "outputs": [
    {
     "data": {
      "text/plain": [
       "0.9770502500091006"
      ]
     },
     "execution_count": 13,
     "metadata": {},
     "output_type": "execute_result"
    }
   ],
   "source": [
    "      lt =  g(35850.31,11594.54,med(35850.31,11594.54),5.5)\n",
    "      c = decays[decays['E'] == 35850.31]['gamma'].tolist()[0]\n",
    "      lt/c"
   ]
  },
  {
   "cell_type": "code",
   "execution_count": 14,
   "metadata": {},
   "outputs": [
    {
     "name": "stdout",
     "output_type": "stream",
     "text": [
      "35\n"
     ]
    }
   ],
   "source": [
    "#this loop caculates all the levels that it could go to filtering for any levels whihc has a g_r < x,\n",
    "# this is done by definening c which is obtained by loking through df_ac and finding the med \n",
    "x =  100\n",
    "strp = decays[decays['E'] == 35850.31]['allowed transitions'].tolist()[0] # this is the intial lvels that cna be dcayed to \n",
    "aalt = [] # list of all trantions that are allowed for the given filter\n",
    "grs = [] # list of all energy levels \n",
    "for i in strp:\n",
    "        if i < 35850.31:\n",
    "                aalt.append(i)# find all intial transtions that are lower than top transition\n",
    "for p in range(10):\n",
    "        for u in range(0 ,len(aalt)):\n",
    "                if aalt[u] <= 35850.31:\n",
    "                        kk = decays[decays['E'] == aalt[u]]['allowed transitions'].tolist()[0]\n",
    "                        jj = decays[decays['E'] == aalt[u]]['j'].tolist()[0]\n",
    "                        for quack in kk:\n",
    "                                if quack < aalt[u]:\n",
    "                                        c = med(aalt[u],quack) # finds dipole matrix elemnt for transition\n",
    "                                        gr = g(aalt[u],quack,c,jj)# calcualtion of reduced energy levels\n",
    "                                        if gr >= x:\n",
    "                                                grs.append([aalt[u],quack,gr])#lis of all the enerfy levels\n",
    "                                                aalt.append(quack)\n",
    "                        aalt = list(set(aalt))#puts them in size order \n",
    "aalt.append(35850.31)\n",
    "#aalt.append(46960.24)\n",
    " # this is added speratly as it will look only through allowed transisitions     \n",
    "aalt = sorted(list(set(aalt)))#gets rid of repeats\n",
    "print(len(aalt))#a check if there lsit is correct lenght"
   ]
  },
  {
   "cell_type": "code",
   "execution_count": null,
   "metadata": {},
   "outputs": [],
   "source": []
  },
  {
   "cell_type": "code",
   "execution_count": 15,
   "metadata": {},
   "outputs": [],
   "source": [
    "#get a list of all the other properties needed such as total angular momnetum and the allowed transitions\n",
    "jnm = []\n",
    "gamman = []\n",
    "allowed_transitions = []\n",
    "fel = []\n",
    "for i in aalt:\n",
    "        fel.append(i)\n",
    "        gamman.append(decays[decays['E'] == i]['gamma'].tolist()[0])\n",
    "        jnm.append(decays[decays['E']==i]['j'].tolist()[0])\n",
    "        allowed_transitions.append([i,decays[decays['E'] == i]['allowed transitions'].tolist()[0].tolist()])"
   ]
  },
  {
   "cell_type": "code",
   "execution_count": 16,
   "metadata": {},
   "outputs": [],
   "source": [
    "#this gets rid of all levels that aren't in aalt\n",
    "LOWERL = []\n",
    "for i in  allowed_transitions:\n",
    "    lower = []\n",
    "    k = i[0]\n",
    "    for j in i[1]:\n",
    "        if j in aalt:\n",
    "                lower.append(j)\n",
    "    LOWERL.append(lower)\n",
    "    allowed_transitions =  LOWERL"
   ]
  },
  {
   "cell_type": "code",
   "execution_count": 17,
   "metadata": {},
   "outputs": [],
   "source": [
    "x = np.linspace(0,30000,14)"
   ]
  },
  {
   "cell_type": "code",
   "execution_count": 18,
   "metadata": {},
   "outputs": [
    {
     "name": "stdout",
     "output_type": "stream",
     "text": [
      "           E    j         gamma  \\\n",
      "0       0.09  1.5  0.000000e+00   \n",
      "1    2321.66  2.5  0.000000e+00   \n",
      "2    7683.25  0.5  1.262528e+04   \n",
      "3    8940.45  1.5  1.473668e+02   \n",
      "4    9124.31  2.5  0.000000e+00   \n",
      "5    9723.70  3.5  0.000000e+00   \n",
      "6   11594.54  4.5  0.000000e+00   \n",
      "7   12444.94  1.5  3.541879e+05   \n",
      "8   12702.13  0.5  3.526041e+03   \n",
      "9   12711.04  1.5  3.329597e+03   \n",
      "10  13175.62  2.5  7.941761e+01   \n",
      "11  14091.60  1.5  1.687977e+05   \n",
      "12  14522.13  2.5  5.998805e+01   \n",
      "13  14769.60  1.5  1.546826e+05   \n",
      "14  15268.30  2.5  2.653784e+06   \n",
      "15  15428.71  3.5  7.677279e-01   \n",
      "16  15992.65  0.5  1.706932e+05   \n",
      "17  16944.85  4.5  0.000000e+00   \n",
      "18  17216.64  2.5  2.207944e+04   \n",
      "19  17622.41  1.5  4.887539e+06   \n",
      "20  17718.65  3.5  1.216149e+06   \n",
      "21  18238.18  2.5  4.677400e+06   \n",
      "22  18331.22  3.5  1.362889e+03   \n",
      "23  18668.53  2.5  2.320252e+06   \n",
      "24  19067.96  1.5  1.033469e+06   \n",
      "25  20180.67  3.5  9.726004e+05   \n",
      "26  20485.53  4.5  3.794394e+05   \n",
      "27  22984.20  2.5  1.195258e+05   \n",
      "28  24322.62  3.5  2.086081e+07   \n",
      "29  25183.80  4.5  6.855080e+04   \n",
      "30  25567.99  3.5  5.797150e+07   \n",
      "31  27716.60  4.5  1.156258e+04   \n",
      "32  29466.40  5.5  2.085434e+02   \n",
      "33  32603.06  4.5  1.486347e+05   \n",
      "34  35850.31  5.5  8.492392e+07   \n",
      "\n",
      "                                  allowed_transitions  \n",
      "0   [7683.25, 12444.94, 14091.6, 17622.41, 19067.9...  \n",
      "1   [12444.94, 14091.6, 17622.41, 19067.96, 15268....  \n",
      "2   [12702.13, 15992.65, 0.09, 8940.45, 12711.04, ...  \n",
      "3   [7683.25, 12444.94, 14091.6, 17622.41, 19067.9...  \n",
      "4   [12444.94, 14091.6, 17622.41, 19067.96, 15268....  \n",
      "5   [15268.3, 18238.18, 18668.53, 17718.65, 20180....  \n",
      "6   [17718.65, 20180.67, 24322.62, 25567.99, 20485...  \n",
      "7   [12702.13, 15992.65, 0.09, 8940.45, 12711.04, ...  \n",
      "8    [7683.25, 12444.94, 14091.6, 17622.41, 19067.96]  \n",
      "9   [7683.25, 12444.94, 14091.6, 17622.41, 19067.9...  \n",
      "10  [12444.94, 14091.6, 17622.41, 19067.96, 15268....  \n",
      "11  [12702.13, 15992.65, 0.09, 8940.45, 12711.04, ...  \n",
      "12  [12444.94, 14091.6, 17622.41, 19067.96, 15268....  \n",
      "13  [7683.25, 12444.94, 14091.6, 17622.41, 19067.9...  \n",
      "14  [0.09, 8940.45, 12711.04, 14769.6, 2321.66, 91...  \n",
      "15  [15268.3, 18238.18, 18668.53, 17718.65, 20180....  \n",
      "16   [7683.25, 12444.94, 14091.6, 17622.41, 19067.96]  \n",
      "17  [17718.65, 20180.67, 24322.62, 25567.99, 20485...  \n",
      "18  [12444.94, 14091.6, 17622.41, 19067.96, 15268....  \n",
      "19  [12702.13, 15992.65, 0.09, 8940.45, 12711.04, ...  \n",
      "20  [2321.66, 9124.31, 13175.62, 14522.13, 17216.6...  \n",
      "21  [0.09, 8940.45, 12711.04, 14769.6, 2321.66, 91...  \n",
      "22  [15268.3, 18238.18, 18668.53, 17718.65, 20180....  \n",
      "23  [0.09, 8940.45, 12711.04, 14769.6, 2321.66, 91...  \n",
      "24  [12702.13, 15992.65, 0.09, 8940.45, 12711.04, ...  \n",
      "25  [2321.66, 9124.31, 13175.62, 14522.13, 17216.6...  \n",
      "26  [9723.7, 15428.71, 18331.22, 11594.54, 16944.8...  \n",
      "27  [12444.94, 14091.6, 17622.41, 19067.96, 15268....  \n",
      "28  [2321.66, 9124.31, 13175.62, 14522.13, 17216.6...  \n",
      "29  [17718.65, 20180.67, 24322.62, 25567.99, 20485...  \n",
      "30  [2321.66, 9124.31, 13175.62, 14522.13, 17216.6...  \n",
      "31  [17718.65, 20180.67, 24322.62, 25567.99, 20485...  \n",
      "32                               [20485.53, 35850.31]  \n",
      "33  [17718.65, 20180.67, 24322.62, 25567.99, 20485...  \n",
      "34  [11594.54, 16944.85, 25183.8, 27716.6, 32603.0...  \n"
     ]
    }
   ],
   "source": [
    "data = {'E':aalt,'j':jnm,'gamma':gamman,'allowed_transitions':allowed_transitions}\n",
    "decaysf = pd.DataFrame(data)\n",
    "print(decaysf)\n",
    "decaysf.to_parquet('decaysf.parquet')"
   ]
  },
  {
   "cell_type": "markdown",
   "metadata": {},
   "source": [
    "Starting up the system  by setting up the hamiltonian"
   ]
  },
  {
   "cell_type": "code",
   "execution_count": 19,
   "metadata": {},
   "outputs": [
    {
     "name": "stdout",
     "output_type": "stream",
     "text": [
      "           E    j         gamma  \\\n",
      "0       0.09  1.5  0.000000e+00   \n",
      "1    2321.66  2.5  0.000000e+00   \n",
      "2    7683.25  0.5  1.262528e+04   \n",
      "3    8940.45  1.5  1.473668e+02   \n",
      "4    9124.31  2.5  0.000000e+00   \n",
      "5    9723.70  3.5  0.000000e+00   \n",
      "6   11594.54  4.5  0.000000e+00   \n",
      "7   12444.94  1.5  3.541879e+05   \n",
      "8   12702.13  0.5  3.526041e+03   \n",
      "9   12711.04  1.5  3.329597e+03   \n",
      "10  13175.62  2.5  7.941761e+01   \n",
      "11  14091.60  1.5  1.687977e+05   \n",
      "12  14522.13  2.5  5.998805e+01   \n",
      "13  14769.60  1.5  1.546826e+05   \n",
      "14  15268.30  2.5  2.653784e+06   \n",
      "15  15428.71  3.5  7.677279e-01   \n",
      "16  15992.65  0.5  1.706932e+05   \n",
      "17  16944.85  4.5  0.000000e+00   \n",
      "18  17216.64  2.5  2.207944e+04   \n",
      "19  17622.41  1.5  4.887539e+06   \n",
      "20  17718.65  3.5  1.216149e+06   \n",
      "21  18238.18  2.5  4.677400e+06   \n",
      "22  18331.22  3.5  1.362889e+03   \n",
      "23  18668.53  2.5  2.320252e+06   \n",
      "24  19067.96  1.5  1.033469e+06   \n",
      "25  20180.67  3.5  9.726004e+05   \n",
      "26  20485.53  4.5  3.794394e+05   \n",
      "27  22984.20  2.5  1.195258e+05   \n",
      "28  24322.62  3.5  2.086081e+07   \n",
      "29  25183.80  4.5  6.855080e+04   \n",
      "30  25567.99  3.5  5.797150e+07   \n",
      "31  27716.60  4.5  1.156258e+04   \n",
      "32  29466.40  5.5  2.085434e+02   \n",
      "33  32603.06  4.5  1.486347e+05   \n",
      "34  35850.31  5.5  8.492392e+07   \n",
      "\n",
      "                                  allowed_transitions  \n",
      "0   [7683.25, 12444.94, 14091.6, 17622.41, 19067.9...  \n",
      "1   [12444.94, 14091.6, 17622.41, 19067.96, 15268....  \n",
      "2   [12702.13, 15992.65, 0.09, 8940.45, 12711.04, ...  \n",
      "3   [7683.25, 12444.94, 14091.6, 17622.41, 19067.9...  \n",
      "4   [12444.94, 14091.6, 17622.41, 19067.96, 15268....  \n",
      "5   [15268.3, 18238.18, 18668.53, 17718.65, 20180....  \n",
      "6   [17718.65, 20180.67, 24322.62, 25567.99, 20485...  \n",
      "7   [12702.13, 15992.65, 0.09, 8940.45, 12711.04, ...  \n",
      "8    [7683.25, 12444.94, 14091.6, 17622.41, 19067.96]  \n",
      "9   [7683.25, 12444.94, 14091.6, 17622.41, 19067.9...  \n",
      "10  [12444.94, 14091.6, 17622.41, 19067.96, 15268....  \n",
      "11  [12702.13, 15992.65, 0.09, 8940.45, 12711.04, ...  \n",
      "12  [12444.94, 14091.6, 17622.41, 19067.96, 15268....  \n",
      "13  [7683.25, 12444.94, 14091.6, 17622.41, 19067.9...  \n",
      "14  [0.09, 8940.45, 12711.04, 14769.6, 2321.66, 91...  \n",
      "15  [15268.3, 18238.18, 18668.53, 17718.65, 20180....  \n",
      "16   [7683.25, 12444.94, 14091.6, 17622.41, 19067.96]  \n",
      "17  [17718.65, 20180.67, 24322.62, 25567.99, 20485...  \n",
      "18  [12444.94, 14091.6, 17622.41, 19067.96, 15268....  \n",
      "19  [12702.13, 15992.65, 0.09, 8940.45, 12711.04, ...  \n",
      "20  [2321.66, 9124.31, 13175.62, 14522.13, 17216.6...  \n",
      "21  [0.09, 8940.45, 12711.04, 14769.6, 2321.66, 91...  \n",
      "22  [15268.3, 18238.18, 18668.53, 17718.65, 20180....  \n",
      "23  [0.09, 8940.45, 12711.04, 14769.6, 2321.66, 91...  \n",
      "24  [12702.13, 15992.65, 0.09, 8940.45, 12711.04, ...  \n",
      "25  [2321.66, 9124.31, 13175.62, 14522.13, 17216.6...  \n",
      "26  [9723.7, 15428.71, 18331.22, 11594.54, 16944.8...  \n",
      "27  [12444.94, 14091.6, 17622.41, 19067.96, 15268....  \n",
      "28  [2321.66, 9124.31, 13175.62, 14522.13, 17216.6...  \n",
      "29  [17718.65, 20180.67, 24322.62, 25567.99, 20485...  \n",
      "30  [2321.66, 9124.31, 13175.62, 14522.13, 17216.6...  \n",
      "31  [17718.65, 20180.67, 24322.62, 25567.99, 20485...  \n",
      "32                               [20485.53, 35850.31]  \n",
      "33  [17718.65, 20180.67, 24322.62, 25567.99, 20485...  \n",
      "34  [11594.54, 16944.85, 25183.8, 27716.6, 32603.0...  \n"
     ]
    }
   ],
   "source": [
    "#actinium with the level 6D27S4F9/2 ->6d27p4G11/2 to start of with, make sure the decay is right at the moment of usse sodiums just get the code working. \n",
    "#all state constants are right except for the g factor need to change that they are still the ones for sodium\n",
    "decaysf = pd.read_parquet('decaysf.parquet')\n",
    "print(decaysf)\n",
    "det = 1\n",
    "alpha = 1.0\n",
    "hbar = sp.h/(2*np.pi)\n",
    "gamma  = decaysf['gamma'].tolist()\n",
    "J = decaysf['j'].tolist()\n",
    "Ee = decaysf['E'].tolist()\n",
    "I = 3/2\n",
    "gj = 1.3126\n",
    "gI  =  1.1/3.15245e-14*3/2\n",
    "AHFS = (0.1712168e4)*10**6\n",
    "#print(decays)"
   ]
  },
  {
   "cell_type": "code",
   "execution_count": 20,
   "metadata": {},
   "outputs": [],
   "source": [
    "#sets up the hyperfine manifolds for the hamilton\n",
    "hamilton ={}\n",
    "for i in range(len(gamma)):\n",
    "    name = 'H_' + str(i)\n",
    "    name2 = 'mu_q' + str(i)\n",
    "    mb = 1\n",
    "    code = '{},{} = pp.hamiltonians.hyperfine_coupled(J[{}],I,gj,gI,AHFS,muB = {})'.format(name,name2,i,mb)\n",
    "    exec(code) \n",
    "    hamilton['H_' + str(i)] = globals()[name]"
   ]
  },
  {
   "cell_type": "code",
   "execution_count": 21,
   "metadata": {},
   "outputs": [],
   "source": [
    "#set ups list of indices that corrospond to all the connection to the individual levels\n",
    "allowed_transitions = decaysf['allowed_transitions'].tolist()\n",
    "allow_i = []\n",
    "kl = 0\n",
    "for i in allowed_transitions:\n",
    "      k = []\n",
    "      if len(i) > 0:   \n",
    "            for z in i:\n",
    "                  k.append(Ee.index(z))\n",
    "            allow_i.append([kl,k])\n",
    "      kl = kl + 1      "
   ]
  },
  {
   "cell_type": "code",
   "execution_count": 22,
   "metadata": {},
   "outputs": [
    {
     "name": "stdout",
     "output_type": "stream",
     "text": [
      "dq20\n",
      "dq70\n",
      "dq110\n",
      "dq190\n",
      "dq240\n",
      "dq140\n",
      "dq210\n",
      "dq230\n",
      "dq71\n",
      "dq111\n",
      "dq191\n",
      "dq241\n",
      "dq141\n",
      "dq211\n",
      "dq231\n",
      "dq201\n",
      "dq251\n",
      "dq281\n",
      "dq301\n",
      "dq82\n",
      "dq162\n",
      "dq32\n",
      "dq92\n",
      "dq132\n",
      "dq73\n",
      "dq113\n",
      "dq193\n",
      "dq243\n",
      "dq143\n",
      "dq213\n",
      "dq233\n",
      "dq74\n",
      "dq114\n",
      "dq194\n",
      "dq244\n",
      "dq144\n",
      "dq214\n",
      "dq234\n",
      "dq204\n",
      "dq254\n",
      "dq284\n",
      "dq304\n",
      "dq145\n",
      "dq215\n",
      "dq235\n",
      "dq205\n",
      "dq255\n",
      "dq285\n",
      "dq305\n",
      "dq265\n",
      "dq206\n",
      "dq256\n",
      "dq286\n",
      "dq306\n",
      "dq266\n",
      "dq346\n",
      "dq87\n",
      "dq167\n",
      "dq97\n",
      "dq137\n",
      "dq107\n",
      "dq127\n",
      "dq187\n",
      "dq277\n",
      "dq118\n",
      "dq198\n",
      "dq248\n",
      "dq119\n",
      "dq199\n",
      "dq249\n",
      "dq149\n",
      "dq219\n",
      "dq239\n",
      "dq1110\n",
      "dq1910\n",
      "dq2410\n",
      "dq1410\n",
      "dq2110\n",
      "dq2310\n",
      "dq2010\n",
      "dq2510\n",
      "dq2810\n",
      "dq3010\n",
      "dq1611\n",
      "dq1311\n",
      "dq1211\n",
      "dq1811\n",
      "dq2711\n",
      "dq1912\n",
      "dq2412\n",
      "dq1412\n",
      "dq2112\n",
      "dq2312\n",
      "dq2012\n",
      "dq2512\n",
      "dq2812\n",
      "dq3012\n",
      "dq1913\n",
      "dq2413\n",
      "dq1413\n",
      "dq2113\n",
      "dq2313\n",
      "dq1814\n",
      "dq2714\n",
      "dq1514\n",
      "dq2214\n",
      "dq2115\n",
      "dq2315\n",
      "dq2015\n",
      "dq2515\n",
      "dq2815\n",
      "dq3015\n",
      "dq2615\n",
      "dq1916\n",
      "dq2416\n",
      "dq2017\n",
      "dq2517\n",
      "dq2817\n",
      "dq3017\n",
      "dq2617\n",
      "dq3417\n",
      "dq1918\n",
      "dq2418\n",
      "dq2118\n",
      "dq2318\n",
      "dq2018\n",
      "dq2518\n",
      "dq2818\n",
      "dq3018\n",
      "dq2719\n",
      "dq2720\n",
      "dq2220\n",
      "dq2920\n",
      "dq3120\n",
      "dq3320\n",
      "dq2721\n",
      "dq2221\n",
      "dq2322\n",
      "dq2522\n",
      "dq2822\n",
      "dq3022\n",
      "dq2622\n",
      "dq2723\n",
      "dq2724\n",
      "dq2725\n",
      "dq2925\n",
      "dq3125\n",
      "dq3325\n",
      "dq2926\n",
      "dq3126\n",
      "dq3326\n",
      "dq3226\n",
      "dq2827\n",
      "dq3027\n",
      "dq2928\n",
      "dq3128\n",
      "dq3328\n",
      "dq3029\n",
      "dq3429\n",
      "dq3130\n",
      "dq3330\n",
      "dq3431\n",
      "dq3432\n",
      "dq3433\n"
     ]
    }
   ],
   "source": [
    "#this then calculates all the dipole matrix elements for the different connections\n",
    "\n",
    "dqij = {}\n",
    "repeat = []\n",
    "for qq in allow_i: \n",
    "    stat = qq[0]\n",
    "    for kk in qq[1]:\n",
    "        if stat > kk:\n",
    "            #print(J[stat])\n",
    "            name  = 'dq' + str(stat) + str(kk)\n",
    "            name_o = 'dq' + str(kk) + str(stat)\n",
    "            if name_o not in repeat:# this is making sure that 21 and 12 not added\n",
    "                code  = '{} = pp.hamiltonians.dqij_two_hyperfine_manifolds(J[{}],J[{}],I.bhfs = 0)'.format(name,kk,stat)\n",
    "                exec(code)\n",
    "                dqij[name] = globals()[name]\n",
    "                 \n",
    "        else:\n",
    "            #print(J[kk])\n",
    "            name  = 'dq' + str(kk) + str(stat)\n",
    "            name_o = 'dq' + str(stat) + str(kk)\n",
    "            if name_o not in repeat :\n",
    "                code  = '{} = pp.hamiltonians.dqij_two_hyperfine_manifolds(J[{}],J[{}],I)'.format(name,stat,kk)\n",
    "                exec(code)\n",
    "                dqij[name] = globals()[name]\n",
    "                print(name)\n",
    "        repeat.append(name_o)"
   ]
  },
  {
   "cell_type": "code",
   "execution_count": 23,
   "metadata": {},
   "outputs": [
    {
     "data": {
      "text/plain": [
       "46960.24"
      ]
     },
     "execution_count": 23,
     "metadata": {},
     "output_type": "execute_result"
    }
   ],
   "source": [
    " 46960.24\n",
    " "
   ]
  },
  {
   "cell_type": "code",
   "execution_count": 24,
   "metadata": {},
   "outputs": [
    {
     "name": "stdout",
     "output_type": "stream",
     "text": [
      "{'E_0': array([-6.420630e+09, -4.708462e+09, -1.284126e+09,  3.852378e+09]), 'E_1': array([-8.988882e+09, -5.564546e+09, -4.280420e+08,  6.420630e+09]), 'E_2': array([-2.140210e+09,  1.284126e+09]), 'E_3': array([-6.420630e+09, -4.708462e+09, -1.284126e+09,  3.852378e+09]), 'E_4': array([-8.988882e+09, -5.564546e+09, -4.280420e+08,  6.420630e+09]), 'E_5': array([-1.1557134e+10, -6.4206300e+09,  4.2804200e+08,  8.9888820e+09]), 'E_6': array([-1.4125386e+10, -7.2767140e+09,  1.2841260e+09,  1.1557134e+10]), 'E_7': array([-6.420630e+09, -4.708462e+09, -1.284126e+09,  3.852378e+09]), 'E_8': array([-2.140210e+09,  1.284126e+09]), 'E_9': array([-6.420630e+09, -4.708462e+09, -1.284126e+09,  3.852378e+09]), 'E_10': array([-8.988882e+09, -5.564546e+09, -4.280420e+08,  6.420630e+09]), 'E_11': array([-6.420630e+09, -4.708462e+09, -1.284126e+09,  3.852378e+09]), 'E_12': array([-8.988882e+09, -5.564546e+09, -4.280420e+08,  6.420630e+09]), 'E_13': array([-6.420630e+09, -4.708462e+09, -1.284126e+09,  3.852378e+09]), 'E_14': array([-8.988882e+09, -5.564546e+09, -4.280420e+08,  6.420630e+09]), 'E_15': array([-1.1557134e+10, -6.4206300e+09,  4.2804200e+08,  8.9888820e+09]), 'E_16': array([-2.140210e+09,  1.284126e+09]), 'E_17': array([-1.4125386e+10, -7.2767140e+09,  1.2841260e+09,  1.1557134e+10]), 'E_18': array([-8.988882e+09, -5.564546e+09, -4.280420e+08,  6.420630e+09]), 'E_19': array([-6.420630e+09, -4.708462e+09, -1.284126e+09,  3.852378e+09]), 'E_20': array([-1.1557134e+10, -6.4206300e+09,  4.2804200e+08,  8.9888820e+09]), 'E_21': array([-8.988882e+09, -5.564546e+09, -4.280420e+08,  6.420630e+09]), 'E_22': array([-1.1557134e+10, -6.4206300e+09,  4.2804200e+08,  8.9888820e+09]), 'E_23': array([-8.988882e+09, -5.564546e+09, -4.280420e+08,  6.420630e+09]), 'E_24': array([-6.420630e+09, -4.708462e+09, -1.284126e+09,  3.852378e+09]), 'E_25': array([-1.1557134e+10, -6.4206300e+09,  4.2804200e+08,  8.9888820e+09]), 'E_26': array([-1.4125386e+10, -7.2767140e+09,  1.2841260e+09,  1.1557134e+10]), 'E_27': array([-8.988882e+09, -5.564546e+09, -4.280420e+08,  6.420630e+09]), 'E_28': array([-1.1557134e+10, -6.4206300e+09,  4.2804200e+08,  8.9888820e+09]), 'E_29': array([-1.4125386e+10, -7.2767140e+09,  1.2841260e+09,  1.1557134e+10]), 'E_30': array([-1.1557134e+10, -6.4206300e+09,  4.2804200e+08,  8.9888820e+09]), 'E_31': array([-1.4125386e+10, -7.2767140e+09,  1.2841260e+09,  1.1557134e+10]), 'E_32': array([-1.6693638e+10, -8.1327980e+09,  2.1402100e+09,  1.4125386e+10]), 'E_33': array([-1.4125386e+10, -7.2767140e+09,  1.2841260e+09,  1.1557134e+10]), 'E_34': array([-1.6693638e+10, -8.1327980e+09,  2.1402100e+09,  1.4125386e+10])}\n"
     ]
    }
   ],
   "source": [
    "#hyperfine energy levels \n",
    "EEE = {}\n",
    "i = 0\n",
    "for k in hamilton:\n",
    "    name_v = 'E_'  + str(i)\n",
    "    i = i + 1\n",
    "    value_n = np.unique(np.diagonal(hamilton[k]))\n",
    "    EEE[name_v] = value_n\n",
    "print(EEE)"
   ]
  },
  {
   "cell_type": "code",
   "execution_count": 25,
   "metadata": {},
   "outputs": [],
   "source": [
    "#magfiels which in this case is a 0 matrix as not including one \n",
    "magField = lambda R:np.zeros(R.shape)"
   ]
  },
  {
   "cell_type": "code",
   "execution_count": 26,
   "metadata": {},
   "outputs": [
    {
     "name": "stdout",
     "output_type": "stream",
     "text": [
      "H_0\n",
      "H_1\n",
      "H_2\n",
      "H_3\n",
      "H_4\n",
      "H_5\n",
      "H_6\n",
      "H_7\n",
      "H_8\n",
      "H_9\n",
      "H_10\n",
      "H_11\n",
      "H_12\n",
      "H_13\n",
      "H_14\n",
      "H_15\n",
      "H_16\n",
      "H_17\n",
      "H_18\n",
      "H_19\n",
      "H_20\n",
      "H_21\n",
      "H_22\n",
      "H_23\n",
      "H_24\n",
      "H_25\n",
      "H_26\n",
      "H_27\n",
      "H_28\n",
      "H_29\n",
      "H_30\n",
      "H_31\n",
      "H_32\n",
      "H_33\n",
      "H_34\n",
      "35\n"
     ]
    }
   ],
   "source": [
    "#this adds all the hyperfine manifold caculated to a hamiltoniain called hamiltonians_ac_a\n",
    "i = 0\n",
    "hamiltonians_ac_a = pp.hamiltonian()\n",
    "for M in range(len(gamma)):\n",
    "    hamiltonians_ac_a.add_H_0_block('H_' + str(M), hamilton['H_' + str(M)])\n",
    "    i = i + 1\n",
    "    print('H_' + str(M))\n",
    "print(i)"
   ]
  },
  {
   "cell_type": "code",
   "execution_count": 27,
   "metadata": {},
   "outputs": [
    {
     "name": "stdout",
     "output_type": "stream",
     "text": [
      "2\n"
     ]
    }
   ],
   "source": [
    "k = 1\n",
    "if  k ==0:\n",
    "    print(1)\n",
    "else:\n",
    "    print(2)"
   ]
  },
  {
   "cell_type": "code",
   "execution_count": 28,
   "metadata": {},
   "outputs": [
    {
     "name": "stdout",
     "output_type": "stream",
     "text": [
      "1406925.652013575\n",
      "146.87809413793755\n",
      "318480.2878564408\n",
      "2365.837219488106\n",
      "3788113.2361509716\n",
      "6326.739172699339\n",
      "3507.5121928955214\n",
      "1.2360020246400676\n",
      "3318.5520554953323\n",
      "0.1005083227793502\n",
      "79.15425667985512\n",
      "0.699752365396412\n",
      "2362134.614434529\n",
      "473791.0109026517\n",
      "74.37129435547457\n",
      "79546.45145523787\n",
      "18028.428758479364\n",
      "2.3234776295250485\n",
      "52.13916565156391\n",
      "7.64995753668147\n",
      "153978.00383550685\n",
      "15.13158295832923\n",
      "9.040713381066867\n",
      "2316362.131803087\n",
      "127236.68255841747\n",
      "60.43505922764268\n",
      "15.427979721358772\n",
      "1265119.143937426\n",
      "658351.8407044302\n",
      "1876.3298115983557\n",
      "0.8742621481436741\n",
      "704.7324487287008\n",
      "0.7651820275880759\n",
      "168411.56755329913\n",
      "3040.797148803142\n",
      "783.6844089461682\n",
      "21274.82546689487\n",
      "396.517346077919\n",
      "45.68486452344242\n",
      "46053.32129447785\n",
      "239.349190576389\n",
      "458895.4160941687\n",
      "676412.0879653142\n",
      "15775.734610170808\n",
      "237.7712033068148\n",
      "519302.40359615296\n",
      "4996764.756680529\n",
      "1501.33073842192\n",
      "6.175076389766055\n",
      "4.5375689195525055\n",
      "820939.3373383841\n",
      "355597.7996369804\n",
      "302.6202701919266\n",
      "8.39786852942809\n",
      "2.542151712956681\n",
      "1764874.6913123026\n",
      "0.36758933035422764\n",
      "2410.4397929760876\n",
      "10.996366795165397\n",
      "3424693.826374026\n",
      "86746.6800732204\n",
      "88467.974072577\n",
      "8176.859017405403\n",
      "8323053.787493191\n",
      "631086.4361661671\n",
      "181683.24742401158\n",
      "1130.7232845864971\n",
      "19.394930769839444\n",
      "29714.086279086798\n",
      "8233.444273397956\n",
      "1356.723542371607\n",
      "0.14492971974876306\n",
      "25.45741660337367\n",
      "291271.7891001837\n",
      "2842.5489045614304\n",
      "88780.97351521462\n",
      "6617.156859685749\n",
      "36078.15805512412\n",
      "368391.67540700664\n",
      "17402.107995064765\n",
      "37.167300178830715\n",
      "38.30031955811826\n",
      "6086723.894969645\n",
      "103.22215937097536\n",
      "0.3340843461987803\n",
      "60752.87351339321\n",
      "12961.883496518205\n",
      "26717433.59694114\n",
      "372893.2312034234\n",
      "68099.02718900838\n",
      "62414.32868414183\n",
      "19399.017796226006\n",
      "37673.638097705545\n",
      "56320.71401036882\n",
      "55811.324620198204\n",
      "65.74068964217182\n",
      "202957.23963009508\n",
      "30.331326764287432\n",
      "134535.48323124408\n",
      "3382.3117878114654\n",
      "1437.8160922567893\n",
      "189602.3198142225\n",
      "4488.15093782922\n",
      "3.6744882806482164\n",
      "6134122.32747681\n",
      "45.51763468068247\n",
      "356710.61837226676\n",
      "25.471939514510993\n",
      "131.124128126537\n",
      "2259948.903533042\n",
      "19822.279380646014\n",
      "1700.4491271182178\n",
      "63154.44737361719\n",
      "14073.43988736737\n",
      "819.9629368042276\n",
      "110705.50806397902\n",
      "812.9951281291349\n",
      "14810.261169787736\n",
      "11444.433865459652\n",
      "395.3321001473667\n",
      "19876023.46735086\n",
      "58974.09453604341\n",
      "82248.2599495801\n",
      "9137.300013377224\n",
      "133967.21259078337\n",
      "6.983896549087396\n",
      "391827.16692521813\n",
      "100726.97024078832\n",
      "37812.962989768326\n",
      "5621.164777507682\n",
      "2969887.086742088\n",
      "48170.2953942636\n",
      "17296.309575535288\n",
      "2.7183168521229804\n",
      "19038.259610504763\n",
      "56437106.61508821\n",
      "109074.05068787589\n",
      "547145.5539811853\n",
      "43813.47943425828\n",
      "252900.20654068733\n",
      "104.8259918177445\n",
      "223945.16782988614\n",
      "186170.7685794459\n",
      "27843.29169191606\n",
      "245626.45741418714\n",
      "1909385.251738198\n",
      "1.950795405050605\n",
      "5258.169156912339\n",
      "4005.8916136303787\n",
      "1213.1968414296973\n",
      "49.72130015576036\n",
      "24977.754461417364\n",
      "207.85188472176145\n",
      "350.3104296545739\n",
      "316.1168665904551\n",
      "88147.0936322925\n",
      "4248.64079603533\n",
      "119601.34626742054\n",
      "82974933.13828921\n",
      "690215.9098048583\n",
      "873571.676822659\n",
      "43476.15564248765\n",
      "3447.126199149857\n",
      "113437.02853685859\n"
     ]
    }
   ],
   "source": [
    "#this allows for the dipe matrix eelmtns ot be connected to each element in the matrix\n",
    "z = 0\n",
    "i = 0\n",
    "repeats = []\n",
    "for i in allow_i:\n",
    "    hope = i[0]\n",
    "    e2 = 'H_' + str(hope)\n",
    "    for kk in i[1]:\n",
    "        e1 = 'H_' + str(kk)\n",
    "        if hope > kk:\n",
    "                ha = 'dq' + str(hope) + str(kk)\n",
    "                ha_s = 'dq' + str(kk) + str(hope)# this is here to stop repeats being added\n",
    "                repeats.append(ha)\n",
    "                if ha_s in repeats:\n",
    "                        cc = dqij[ha]\n",
    "                        c = med(Ee[hope] ,Ee[kk])\n",
    "                        gamma_r = g(Ee[hope],Ee[kk],c,J[hope])\n",
    "                        hamiltonians_ac_a.add_d_q_block(e1,e2,cc , gamma = gamma_r)#\n",
    "                        print(gamma_r)\n",
    "        else:\n",
    "            ha = 'dq' + str(kk) + str(hope)\n",
    "            ha_s = 'dq' + str(hope) + str(kk)\n",
    "            repeats.append(ha_s)\n",
    "            if ha_s not in repeats:\n",
    "                c = med(Ee[hope] ,Ee[kk])\n",
    "                gamma_r = g(Ee[hope],Ee[kk],c,J[kk])\n",
    "                cc = dqij[ha]\n",
    "                hamiltonians_ac_a.add_d_q_block(e2,e1,cc , gamma = gamma_r)#\n",
    "                print(gamma_r)\n",
    "            "
   ]
  },
  {
   "cell_type": "markdown",
   "metadata": {},
   "source": [
    "Now the laser is being set up so that it will excite the population for different levels "
   ]
  },
  {
   "cell_type": "code",
   "execution_count": 29,
   "metadata": {},
   "outputs": [],
   "source": [
    "\n",
    "#define the laser as a dictionairy the names in this have to corrospond to names defined in in the d_q add block if not specified default is ''g' 'e' labels \n",
    "e =  (EEE['E_34'][3] -  EEE['E_6'][3])\n",
    "e2 = (EEE['E_34'][3] - EEE['E_29'][3])\n",
    "e3 = (EEE['E_34'][3] - EEE['E_17'][3])\n",
    "e4 = (EEE['E_34'][3] - EEE['E_32'][3])"
   ]
  },
  {
   "cell_type": "code",
   "execution_count": 30,
   "metadata": {},
   "outputs": [
    {
     "data": {
      "text/plain": [
       "46960.24"
      ]
     },
     "execution_count": 30,
     "metadata": {},
     "output_type": "execute_result"
    }
   ],
   "source": [
    " 46960.24"
   ]
  },
  {
   "cell_type": "code",
   "execution_count": null,
   "metadata": {},
   "outputs": [],
   "source": []
  },
  {
   "cell_type": "code",
   "execution_count": 31,
   "metadata": {},
   "outputs": [
    {
     "name": "stdout",
     "output_type": "stream",
     "text": [
      "[[(<H_0|H_0|H_0> 16x16) None (<H_0|d_q|H_2> 16x8) ... None None None]\n",
      " [None (<H_1|H_0|H_1> 24x24) None ... None None None]\n",
      " [(<H_2|d_q|H_0> 8x16) None (<H_2|H_0|H_2> 8x8) ... None None None]\n",
      " ...\n",
      " [None None None ... (<H_32|H_0|H_32> 48x48) None (<H_32|d_q|H_34> 48x48)]\n",
      " [None None None ... None (<H_33|H_0|H_33> 40x40) (<H_33|d_q|H_34> 40x48)]\n",
      " [None None None ... (<H_34|d_q|H_32> 48x48) (<H_34|d_q|H_33> 48x40)\n",
      "  (<H_34|H_0|H_34> 48x48)]]\n"
     ]
    }
   ],
   "source": [
    "hamiltonians_ac_a.print_structure()"
   ]
  },
  {
   "cell_type": "code",
   "execution_count": 32,
   "metadata": {},
   "outputs": [
    {
     "name": "stdout",
     "output_type": "stream",
     "text": [
      "928\n"
     ]
    }
   ],
   "source": [
    "# this caculates the all the mf levels labels as a list |n,F,m_f>\n",
    "fff = []\n",
    "M = 0\n",
    "for i in aalt:\n",
    "    H = decays[decays['E'] == i]['HF'].tolist()[0]\n",
    "    for j in H:\n",
    "        if j == 0:\n",
    "            fff.append([M,j,0])  \n",
    "        else:        \n",
    "            for k in range(-j,j+1):\n",
    "                 fff.append([M,j,k])\n",
    "    M = M+1\n",
    "print(len(fff))\n",
    "maxi = len(fff) - 1"
   ]
  },
  {
   "cell_type": "code",
   "execution_count": 33,
   "metadata": {},
   "outputs": [
    {
     "name": "stdout",
     "output_type": "stream",
     "text": [
      "160\n"
     ]
    }
   ],
   "source": [
    "j = 0\n",
    "for i in fff:\n",
    "    j = j + 1\n",
    "    if i == [6,6,6]:\n",
    "        break\n",
    "print(j)"
   ]
  },
  {
   "cell_type": "code",
   "execution_count": 34,
   "metadata": {},
   "outputs": [],
   "source": [
    "# the laser is the established as and then inptued into a function which caclutlates the rate eqaution\n",
    "laserbeam  = {}  \n",
    "laserbeam['H_6->H_34'] = pp.laserBeams([\n",
    "    {'kvec':np.array([0,0,1]), 'pol': np.array([0,0,1]),\n",
    "     'pol_coord':'spherical', 'delta':e2, 's':0}] ,beam_type= pp.infinitePlaneWaveBeam)#main pumping laser\n",
    "# laserbeam['H_29->H_34'] = pp.laserBeams([{'kvec':np.array([0, 1, 0]), 'pol':np.array([0,0,1]),\n",
    "#         'pol_coord':'cartesian', 'delta':e2, 's':10000}],\n",
    "#     beam_type= pp.infinitePlaneWaveBeam)#repump\n",
    "# laserbeam['H_17->H_34'] = pp.laserBeams(\n",
    "#     [{'kvec':np.array([0, 1,0 ]), 'pol':np.array([0,0, 1]),\n",
    "#            'pol_coord':'cartesian', 'delta':e3, 's':10000}],\n",
    "#          beam_type= pp.infinitePlaneWaveBeam)\n",
    "# laserbeam['H_32->H_34'] = pp.laserBeams(\n",
    "#    [{'kvec':np.array([0, 0, 1]), 'pol':-1,\n",
    "#           'pol_coord':'spherical', 'delta':e4, 's':10000}],\n",
    "#            beam_type= pp.infinitePlaneWaveBeam)\n",
    "rateeq = pp.rateeq(laserbeam,magField,hamiltonians_ac_a)"
   ]
  },
  {
   "cell_type": "code",
   "execution_count": 35,
   "metadata": {},
   "outputs": [],
   "source": [
    "laserbeam  = {}  \n",
    "laserbeam['H_6->H_34'] = pp.laserBeams([\n",
    "    {'kvec':np.array([0,0,1]), 'pol': np.array([0,0,1]),\n",
    "     'pol_coord':'spherical', 'delta':e2, 's':1}] ,beam_type= pp.infinitePlaneWaveBeam)\n",
    "rateeq1 = pp.rateeq(laserbeam,magField,hamiltonians_ac_a)"
   ]
  },
  {
   "cell_type": "code",
   "execution_count": 36,
   "metadata": {},
   "outputs": [
    {
     "data": {
      "text/plain": [
       "  message: The solver successfully reached the end of the integration interval.\n",
       "  success: True\n",
       "   status: 0\n",
       "        t: [ 0.000e+00  1.204e-11 ...  1.112e-06  1.134e-06]\n",
       "        y: [[ 0.000e+00  0.000e+00 ...  2.600e-19  2.858e-19]\n",
       "            [ 0.000e+00  0.000e+00 ...  2.597e-30  2.942e-30]\n",
       "            ...\n",
       "            [ 0.000e+00  0.000e+00 ...  0.000e+00  0.000e+00]\n",
       "            [ 1.000e+00  9.990e-01 ...  2.381e-05  4.181e-06]]\n",
       "      sol: None\n",
       " t_events: None\n",
       " y_events: None\n",
       "     nfev: 248\n",
       "     njev: 0\n",
       "      nlu: 0"
      ]
     },
     "execution_count": 36,
     "metadata": {},
     "output_type": "execute_result"
    }
   ],
   "source": [
    "t_0 = (1/gamma_r)*200\n",
    "N0  = np.zeros((rateeq.hamiltonian.n,))\n",
    "N0[maxi] = 1#719 is state 29(25183.8)\n",
    "rateeq.set_initial_pop(N0)\n",
    "rateeq.evolve_populations([0,20e-10/t_0],max_step = 0.00001)"
   ]
  },
  {
   "cell_type": "code",
   "execution_count": 37,
   "metadata": {},
   "outputs": [
    {
     "data": {
      "text/plain": [
       "  message: The solver successfully reached the end of the integration interval.\n",
       "  success: True\n",
       "   status: 0\n",
       "        t: [ 0.000e+00  8.026e-12 ...  1.115e-06  1.134e-06]\n",
       "        y: [[ 0.000e+00  0.000e+00 ...  1.151e-18  1.267e-18]\n",
       "            [ 0.000e+00  0.000e+00 ...  1.959e-24  2.253e-24]\n",
       "            ...\n",
       "            [ 0.000e+00  1.247e-22 ...  4.540e-05  4.660e-05]\n",
       "            [ 1.000e+00  9.990e-01 ...  1.580e-01  1.560e-01]]\n",
       "      sol: None\n",
       " t_events: None\n",
       " y_events: None\n",
       "     nfev: 386\n",
       "     njev: 0\n",
       "      nlu: 0"
      ]
     },
     "execution_count": 37,
     "metadata": {},
     "output_type": "execute_result"
    }
   ],
   "source": [
    "t_0 = (1/gamma_r)*200\n",
    "N0  = np.zeros((rateeq1.hamiltonian.n,))\n",
    "N0[maxi] = 1#719 is state 29(25183.8)\n",
    "rateeq1.set_initial_pop(N0)\n",
    "rateeq1.evolve_populations([0,20e-10/t_0],max_step = 0.00001)"
   ]
  },
  {
   "cell_type": "code",
   "execution_count": 38,
   "metadata": {},
   "outputs": [
    {
     "data": {
      "text/plain": [
       "  message: The solver successfully reached the end of the integration interval.\n",
       "  success: True\n",
       "   status: 0\n",
       "        t: [ 0.000e+00  1.204e-11 ...  1.112e-06  1.134e-06]\n",
       "        y: [[ 0.000e+00  0.000e+00 ...  2.600e-19  2.858e-19]\n",
       "            [ 0.000e+00  0.000e+00 ...  2.597e-30  2.942e-30]\n",
       "            ...\n",
       "            [ 0.000e+00  0.000e+00 ...  0.000e+00  0.000e+00]\n",
       "            [ 1.000e+00  9.990e-01 ...  2.381e-05  4.181e-06]]\n",
       "      sol: None\n",
       " t_events: None\n",
       " y_events: None\n",
       "     nfev: 248\n",
       "     njev: 0\n",
       "      nlu: 0"
      ]
     },
     "execution_count": 38,
     "metadata": {},
     "output_type": "execute_result"
    }
   ],
   "source": [
    "t_0 = (1/gamma_r)*200\n",
    "N0  = np.zeros((rateeq.hamiltonian.n,))\n",
    "N0[maxi] = 1#719 is state 29(25183.8)\n",
    "rateeq.set_initial_pop(N0)\n",
    "rateeq.evolve_populations([0,20e-10/t_0],max_step = 0.00001)\n"
   ]
  },
  {
   "cell_type": "code",
   "execution_count": null,
   "metadata": {},
   "outputs": [],
   "source": []
  },
  {
   "cell_type": "code",
   "execution_count": 76,
   "metadata": {},
   "outputs": [
    {
     "name": "stdout",
     "output_type": "stream",
     "text": [
      "0\n",
      "#d62728 |6,6,6>\n",
      "1\n",
      "#9467bd |17,6,6>\n",
      "2\n",
      "#8c564b |29,6,6>\n",
      "3\n",
      "#e377c2 |31,6,6>\n",
      "4\n",
      "#7f7f7f |32,7,7>\n",
      "5\n",
      "#bcbd22 |34,7,7>\n"
     ]
    },
    {
     "data": {
      "image/png": "[encoded data removed]",
      "text/plain": [
       "<Figure size 640x480 with 2 Axes>"
      ]
     },
     "metadata": {},
     "output_type": "display_data"
    }
   ],
   "source": [
    "pos_index = [3,4,5,6,7,8]\n",
    "fig, ax = plt.subplots(2,1,sharex=True,sharey=True)\n",
    "j = 0\n",
    "legend_elements = []\n",
    "#plt.subplot(2,1,1)\n",
    "for bob in range(len(rateeq.sol.y)):\n",
    "    ee = fff[bob][0]\n",
    "    ff = fff[bob][1]\n",
    "    m = fff[bob][2]\n",
    "    k = rateeq.sol.y[bob]\n",
    "\n",
    "    if any(x >0.0005 for x in k):\n",
    "        print(j)\n",
    "        color = get_distinct_color()\n",
    "        ax[0].plot(1e9*rateeq.sol.t ,rateeq.sol.y[bob],'--',color = color, linewidth=1.0,\n",
    "            label='|' + ','.join([str(ee), str(ff), str(m)]) + '>')\n",
    "        ax[1].plot(1e9*rateeq1.sol.t ,rateeq1.sol.y[bob],'--',color = color, linewidth=1.0,\n",
    "            label='|' + ','.join([str(ee), str(ff), str(m)]) + '>')\n",
    "        print(color,'|' + ','.join([str(ee), str(ff), str(m)]) + '>')\n",
    "        legend_elements.append( plt.Line2D([0], [0], color= color, linestyle='--', lw=2, label=f'({pos_index[j]},{ff},{m})'))\n",
    "        j += 1\n",
    "handles, labels = [], []\n",
    "for axs in ax:\n",
    "    for handle, label in zip(*axs.get_legend_handles_labels()):\n",
    "        if label not in labels:  # Avoid duplicate labels\n",
    "            handles.append(handle)\n",
    "            labels.append(label)\n",
    "\n",
    "# Create a single legend for the entire figure\n",
    "\n",
    "\n",
    "        #i += 3\n",
    "ax[0].set_title('Decay of Sysyem from excited state of cooling system')\n",
    "ax[1].set_title('System with Cooling Laser on')\n",
    "ax[1].set_xlabel('Time(ns)')\n",
    "ax[0].set_ylabel('N')\n",
    "ax[1].set_ylabel('N')\n",
    "fig.legend(handles = legend_elements )\n",
    "plt.tight_layout()\n",
    "plt.show()\n",
    "\n"
   ]
  },
  {
   "cell_type": "markdown",
   "metadata": {},
   "source": [
    "The initial population is now being put in and the popualtion then varrieed over time and plotted to see what happens"
   ]
  },
  {
   "cell_type": "code",
   "execution_count": 57,
   "metadata": {},
   "outputs": [
    {
     "data": {
      "text/plain": [
       "[<matplotlib.lines.Line2D at 0x7f05741fa5b0>,\n",
       " <matplotlib.lines.Line2D at 0x7eff083ba1f0>,\n",
       " <matplotlib.lines.Line2D at 0x7eff083ba760>,\n",
       " <matplotlib.lines.Line2D at 0x7eff0820a220>,\n",
       " <matplotlib.lines.Line2D at 0x7eff0819a280>,\n",
       " <matplotlib.lines.Line2D at 0x7eff08191f70>,\n",
       " <matplotlib.lines.Line2D at 0x7eff081917f0>,\n",
       " <matplotlib.lines.Line2D at 0x7eff00520bb0>]"
      ]
     },
     "execution_count": 57,
     "metadata": {},
     "output_type": "execute_result"
    }
   ],
   "source": [
    "legend_elements"
   ]
  },
  {
   "cell_type": "code",
   "execution_count": null,
   "metadata": {},
   "outputs": [],
   "source": []
  }
 ],
 "metadata": {
  "kernelspec": {
   "display_name": "Python 3 (ipykernel)",
   "language": "python",
   "name": "python3"
  },
  "language_info": {
   "name": "python",
   "version": "3.12.3"
  }
 },
 "nbformat": 4,
 "nbformat_minor": 2
}
