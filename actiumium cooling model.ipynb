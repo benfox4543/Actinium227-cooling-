{
 "cells": [
  {
   "cell_type": "code",
   "execution_count": 1,
   "metadata": {},
   "outputs": [],
   "source": [
    "#the mdoel is utilsisng the pylcp package as the mmain package doing the calculations for the model the others are basic inbuilt packages\n",
    "#the two data frames are decasy which a caculation of all the energy levels decay rates. \n",
    "# the others is all the possible decay rate from each levels and there corrosponidng decay rates\n",
    "#functools packaga use cache \n",
    "\n",
    "import numpy as np\n",
    "import matplotlib.pyplot as plt\n",
    "import pylcp as pp\n",
    "import scipy.constants as sp\n",
    "import pandas as pd\n",
    "import random\n",
    "decays = pd.read_parquet('decays_ac.parquet')\n",
    "df_ac = pd.read_excel('acditransitions.xlsx')\n",
    "x = 100\n",
    "#try for indinvidui l decays rates"
   ]
  },
  {
   "cell_type": "code",
   "execution_count": 2,
   "metadata": {},
   "outputs": [],
   "source": [
    "#alpha is fine structre constant and rc is a unit conversion form au to hz\n",
    "alpha = 1/137\n",
    "Rc = ((4/3)*(alpha/219745)**3)*(1/(2.418e-17))\n",
    "\n",
    "def g(i,j,med,jj):\n",
    "    '''\n",
    "    This allows for the cacultation of the decay rate in units of hz\n",
    "    variables:\n",
    "    i(flaot): this is the inintial energy levels ,units are cm^-1\n",
    "    j(float):this is the level that it decays to in: cm^-2u\n",
    "    med(float): dipole matrix elemnet in atomic units \n",
    "    jj(int): this it the total angular momentum\n",
    "    '''\n",
    "    a = ((i-j)**3)*(med)**2/(2*jj + 1)\n",
    "    return a*Rc"
   ]
  },
  {
   "cell_type": "code",
   "execution_count": 3,
   "metadata": {},
   "outputs": [],
   "source": [
    "def med(i,j):\n",
    "    '''\n",
    "    This returning the dipole matrix elemnt from a pandas data\n",
    "    '''\n",
    "    Eo = df_ac['E1'].tolist()\n",
    "    if  i in Eo:\n",
    "            c =  df_ac[(df_ac['E1'] == i) & (df_ac['E2'] == j)]['Med'].tolist()[0]# matrix dipole element for the pscific energy level\n",
    "    else:\n",
    "            c =  df_ac[(df_ac['E2'] == i) & (df_ac['E1'] == j)]['Med'].tolist()[0]\n",
    "\n",
    "    return c\n"
   ]
  },
  {
   "cell_type": "code",
   "execution_count": 4,
   "metadata": {},
   "outputs": [
    {
     "data": {
      "text/plain": [
       "5.8757"
      ]
     },
     "execution_count": 4,
     "metadata": {},
     "output_type": "execute_result"
    }
   ],
   "source": [
    "med(35850.31,11594.54)"
   ]
  },
  {
   "cell_type": "code",
   "execution_count": 5,
   "metadata": {},
   "outputs": [],
   "source": [
    "#the is the cell which defines the excited stated of the transition as the goal is to work all the levels that population can go to\n",
    "#x is a fitler number saying we only what levels inlcuded that have population goint that is above 100 as the relates to less 0.000001% population \n",
    "x =  2000000\n",
    "strp = decays[decays['E'] == 35850.31]['allowed transitions'].tolist()[0]\n",
    "Eo = df_ac['E1'].tolist()\n",
    "aalt = []\n",
    "for i in strp:\n",
    "        aalt.append(i)"
   ]
  },
  {
   "cell_type": "code",
   "execution_count": 6,
   "metadata": {},
   "outputs": [
    {
     "name": "stdout",
     "output_type": "stream",
     "text": [
      "7\n"
     ]
    }
   ],
   "source": [
    "#this loop caculates all the levels that it could go to fitlering for any levels whihc has a g_r < x,\n",
    "# this is done by definening c which is obtained by loking through df_ac and finding the med \n",
    "x =  119700\n",
    "strp = decays[decays['E'] == 35850.31]['allowed transitions'].tolist()[0]\n",
    "Eo = df_ac['E1'].tolist()\n",
    "aalt = []\n",
    "grs = []\n",
    "for i in strp:\n",
    "        if i < 35850.31:\n",
    "                aalt.append(i)\n",
    "for p in range(10):\n",
    "        for u in range(0 ,len(aalt)):\n",
    "                if aalt[u] <= 35850.31:\n",
    "                        kk = decays[decays['E'] == aalt[u]]['allowed transitions'].tolist()[0]\n",
    "                        jj = decays[decays['E'] == aalt[u]]['j'].tolist()[0]\n",
    "                        for quack in kk:\n",
    "                                if quack < aalt[u]:\n",
    "                                        c = med(aalt[u],quack)\n",
    "                                        gr = g(aalt[u],quack,c,jj)# calcualtion of reduced energy levels\n",
    "                                        if gr >= x:\n",
    "                                                grs.append([aalt[u],quack,gr])#lis of all the enerfy levels\n",
    "                                                aalt.append(quack)\n",
    "                        aalt = list(set(aalt))#puts them in size order \n",
    "aalt.append(35850.31) # this is added speratly as it will look only through allowed transisitions     \n",
    "aalt = sorted(list(set(aalt)))#gets rid of repeats\n",
    "print(len(aalt))#a check if there lsit is correct lenght"
   ]
  },
  {
   "cell_type": "code",
   "execution_count": 7,
   "metadata": {},
   "outputs": [
    {
     "data": {
      "text/plain": [
       "7"
      ]
     },
     "execution_count": 7,
     "metadata": {},
     "output_type": "execute_result"
    }
   ],
   "source": [
    "len(aalt)"
   ]
  },
  {
   "cell_type": "code",
   "execution_count": 8,
   "metadata": {},
   "outputs": [],
   "source": [
    "#get a list of all the other pepoerties needed such as total angular momnetum and the allowed transitions\n",
    "jnm = []\n",
    "gamman = []\n",
    "allowed_transitions = []\n",
    "fel = []\n",
    "for i in aalt:\n",
    "        fel.append(i)\n",
    "        gamman.append(decays[decays['E'] == i]['gamma'].tolist()[0])\n",
    "        jnm.append(decays[decays['E']==i]['j'].tolist()[0])\n",
    "        allowed_transitions.append([i,decays[decays['E'] == i]['allowed transitions'].tolist()[0].tolist()])"
   ]
  },
  {
   "cell_type": "code",
   "execution_count": 9,
   "metadata": {},
   "outputs": [],
   "source": [
    "#this gets rid of all levels that aren't un aalt\n",
    "LOWERL = []\n",
    "for i in  allowed_transitions:\n",
    "    lower = []\n",
    "    k = i[0]\n",
    "    for j in i[1]:\n",
    "        if j in aalt:\n",
    "                lower.append(j)\n",
    "    LOWERL.append(lower)\n",
    "    allowed_transitions =  LOWERL"
   ]
  },
  {
   "cell_type": "code",
   "execution_count": 10,
   "metadata": {},
   "outputs": [
    {
     "name": "stdout",
     "output_type": "stream",
     "text": [
      "          E    j         gamma  \\\n",
      "0  11594.54  4.5  0.000000e+00   \n",
      "1  16944.85  4.5  0.000000e+00   \n",
      "2  25183.80  4.5  6.855080e+04   \n",
      "3  27716.60  4.5  1.156258e+04   \n",
      "4  29466.40  5.5  2.085434e+02   \n",
      "5  32603.06  4.5  1.486347e+05   \n",
      "6  35850.31  5.5  8.492392e+07   \n",
      "\n",
      "                                 allowed_transitions  \n",
      "0                                         [35850.31]  \n",
      "1                                         [35850.31]  \n",
      "2                                         [35850.31]  \n",
      "3                                         [35850.31]  \n",
      "4                                         [35850.31]  \n",
      "5                                         [35850.31]  \n",
      "6  [11594.54, 16944.85, 25183.8, 27716.6, 32603.0...  \n"
     ]
    }
   ],
   "source": [
    "#cretaes a new data frame \n",
    "data = {'E': aalt ,'j':jnm,'gamma':gamman ,'allowed_transitions':allowed_transitions}\n",
    "decaysf= pd.DataFrame(data)\n",
    "print(decaysf)\n",
    "decaysf.to_parquet('decaysf.parquet')"
   ]
  },
  {
   "cell_type": "markdown",
   "metadata": {},
   "source": [
    "Starting up the system  by setting up the hamiltonian"
   ]
  },
  {
   "cell_type": "code",
   "execution_count": 11,
   "metadata": {},
   "outputs": [
    {
     "name": "stdout",
     "output_type": "stream",
     "text": [
      "          E    j         gamma  \\\n",
      "0  11594.54  4.5  0.000000e+00   \n",
      "1  16944.85  4.5  0.000000e+00   \n",
      "2  25183.80  4.5  6.855080e+04   \n",
      "3  27716.60  4.5  1.156258e+04   \n",
      "4  29466.40  5.5  2.085434e+02   \n",
      "5  32603.06  4.5  1.486347e+05   \n",
      "6  35850.31  5.5  8.492392e+07   \n",
      "\n",
      "                                 allowed_transitions  \n",
      "0                                         [35850.31]  \n",
      "1                                         [35850.31]  \n",
      "2                                         [35850.31]  \n",
      "3                                         [35850.31]  \n",
      "4                                         [35850.31]  \n",
      "5                                         [35850.31]  \n",
      "6  [11594.54, 16944.85, 25183.8, 27716.6, 32603.0...  \n"
     ]
    }
   ],
   "source": [
    "#actinium with the level 6D27S4F9/2 ->6d27p4G11/2 to start of with, make sure the decay is right at the moment of usse sodiums just get the code working. \n",
    "#all state constants are right except for the g factor need to change that they are still the ones for sodium\n",
    "decays = pd.read_parquet('decays_ac.parquet')\n",
    "decaysf = pd.read_parquet('decaysf.parquet')\n",
    "print(decaysf)\n",
    "det = 1\n",
    "alpha = 1.0\n",
    "hbar = sp.h/(2*np.pi)\n",
    "gamma  = decaysf['gamma'].tolist()\n",
    "J = decaysf['j'].tolist()\n",
    "Ee = decaysf['E'].tolist()\n",
    "I = 3/2\n",
    "gj = 1.3126\n",
    "gI  =  1.1/3.15245e-14*3/2\n",
    "AHFS = (0.1712168e4)*10**6\n",
    "#print(decays)"
   ]
  },
  {
   "cell_type": "code",
   "execution_count": 12,
   "metadata": {},
   "outputs": [],
   "source": [
    "#sets up the hyperfine manifolds for the hamilton\n",
    "hamilton ={}\n",
    "for i in range(len(gamma)):\n",
    "    name = 'H_' + str(i)\n",
    "    name2 = 'mu_q' + str(i)\n",
    "    code = '{},{} = pp.hamiltonians.hyperfine_coupled(J[{}],I,gj,gI,AHFS)'.format(name,name2,i)\n",
    "    exec(code)\n",
    "    hamilton['H_' + str(i)] = globals()[name]"
   ]
  },
  {
   "cell_type": "code",
   "execution_count": 13,
   "metadata": {},
   "outputs": [],
   "source": [
    "#set ups list of indices that corrospond to all the connection to the individual levels\n",
    "allowed_transitions = decaysf['allowed_transitions'].tolist()\n",
    "allow_i = []\n",
    "kl = 0\n",
    "for i in allowed_transitions:\n",
    "      k = []\n",
    "      if len(i) > 0:   \n",
    "            for z in i:\n",
    "                  k.append(Ee.index(z))\n",
    "            allow_i.append([kl,k])\n",
    "      kl = kl + 1      "
   ]
  },
  {
   "cell_type": "code",
   "execution_count": 14,
   "metadata": {},
   "outputs": [
    {
     "data": {
      "text/plain": [
       "[[0, [6]],\n",
       " [1, [6]],\n",
       " [2, [6]],\n",
       " [3, [6]],\n",
       " [4, [6]],\n",
       " [5, [6]],\n",
       " [6, [0, 1, 2, 3, 5, 4]]]"
      ]
     },
     "execution_count": 14,
     "metadata": {},
     "output_type": "execute_result"
    }
   ],
   "source": [
    "allow_i"
   ]
  },
  {
   "cell_type": "code",
   "execution_count": 15,
   "metadata": {},
   "outputs": [
    {
     "name": "stdout",
     "output_type": "stream",
     "text": [
      "dq60\n",
      "dq61\n",
      "dq62\n",
      "dq63\n",
      "dq64\n",
      "dq65\n"
     ]
    }
   ],
   "source": [
    "#this then calculates all the dipole matrix elements for the different connections\n",
    "\n",
    "dqij = {}\n",
    "repeat = []\n",
    "for qq in allow_i: \n",
    "    stat = qq[0]\n",
    "    for kk in qq[1]:\n",
    "        if stat > kk:\n",
    "            #print(J[stat])\n",
    "            name  = 'dq' + str(stat) + str(kk)\n",
    "            name_o = 'dq' + str(kk) + str(stat)\n",
    "            if name_o not in repeat:\n",
    "                code  = '{} = pp.hamiltonians.dqij_two_hyperfine_manifolds(J[{}],J[{}],I)'.format(name,kk,stat)\n",
    "                exec(code)\n",
    "                dqij[name] = globals()[name]\n",
    "                 \n",
    "        else:\n",
    "            #print(J[kk])\n",
    "            name  = 'dq' + str(kk) + str(stat)\n",
    "            name_o = 'dq' + str(stat) + str(kk)\n",
    "            if name_o not in repeat:\n",
    "                code  = '{} = pp.hamiltonians.dqij_two_hyperfine_manifolds(J[{}],J[{}],I)'.format(name,stat,kk)\n",
    "                exec(code)\n",
    "                dqij[name] = globals()[name]\n",
    "                print(name)\n",
    "        repeat.append(name)"
   ]
  },
  {
   "cell_type": "code",
   "execution_count": 16,
   "metadata": {},
   "outputs": [
    {
     "name": "stdout",
     "output_type": "stream",
     "text": [
      "{'E_0': array([-1.4125386e+10, -7.2767140e+09,  1.2841260e+09,  1.1557134e+10]), 'E_1': array([-1.4125386e+10, -7.2767140e+09,  1.2841260e+09,  1.1557134e+10]), 'E_2': array([-1.4125386e+10, -7.2767140e+09,  1.2841260e+09,  1.1557134e+10]), 'E_3': array([-1.4125386e+10, -7.2767140e+09,  1.2841260e+09,  1.1557134e+10]), 'E_4': array([-1.6693638e+10, -8.1327980e+09,  2.1402100e+09,  1.4125386e+10]), 'E_5': array([-1.4125386e+10, -7.2767140e+09,  1.2841260e+09,  1.1557134e+10]), 'E_6': array([-1.6693638e+10, -8.1327980e+09,  2.1402100e+09,  1.4125386e+10])}\n"
     ]
    }
   ],
   "source": [
    "#hyperfine energy levels \n",
    "EEE = {}\n",
    "i = 0\n",
    "for k in hamilton:\n",
    "    name_v = 'E_'  + str(i)\n",
    "    i = i + 1\n",
    "    value_n = np.unique(np.diagonal(hamilton[k]))\n",
    "    EEE[name_v] = value_n\n",
    "print(EEE)"
   ]
  },
  {
   "cell_type": "code",
   "execution_count": 17,
   "metadata": {},
   "outputs": [
    {
     "data": {
      "text/plain": [
       "35850.31"
      ]
     },
     "execution_count": 17,
     "metadata": {},
     "output_type": "execute_result"
    }
   ],
   "source": [
    "Ee[6]"
   ]
  },
  {
   "cell_type": "code",
   "execution_count": 18,
   "metadata": {},
   "outputs": [],
   "source": [
    "#magfiels which in this case is a 0 matrix as not including one \n",
    "magField = lambda R:np.zeros(R.shape)"
   ]
  },
  {
   "cell_type": "code",
   "execution_count": 19,
   "metadata": {},
   "outputs": [
    {
     "name": "stdout",
     "output_type": "stream",
     "text": [
      "H_0\n",
      "H_1\n",
      "H_2\n",
      "H_3\n",
      "H_4\n",
      "H_5\n",
      "H_6\n",
      "7\n"
     ]
    }
   ],
   "source": [
    "#this adds all the hyperfine manifold caculated to a hamiltoniain called hamiltonians_ac_a\n",
    "i = 0\n",
    "hamiltonians_ac_a = pp.hamiltonian()\n",
    "for M in range(len(gamma)):\n",
    "    hamiltonians_ac_a.add_H_0_block('H_' + str(M), hamilton['H_' + str(M)])\n",
    "    i = i + 1\n",
    "    print('H_' + str(M))\n",
    "print(i)"
   ]
  },
  {
   "cell_type": "code",
   "execution_count": 20,
   "metadata": {},
   "outputs": [
    {
     "name": "stdout",
     "output_type": "stream",
     "text": [
      "82974933.13828921\n",
      "690215.9098048583\n",
      "873571.676822659\n",
      "43476.15564248765\n",
      "3447.126199149857\n",
      "113437.02853685859\n"
     ]
    }
   ],
   "source": [
    "#this allows for the dipe matrix eelmtns ot be connected to each element in the matrix\n",
    "z = 0\n",
    "repeats = []\n",
    "for i in allow_i:\n",
    "    hope = i[0]\n",
    "    e2 = 'H_' + str(hope)\n",
    "    for kk in i[1]:\n",
    "        e1 = 'H_' + str(kk)\n",
    "        if hope > kk:\n",
    "                ha = 'dq' + str(hope) + str(kk)\n",
    "                ha_s = 'dq' + str(kk) + str(hope)# this is here to stop repeats being added\n",
    "                repeats.append(ha)\n",
    "                if ha_s in repeats:\n",
    "                        cc = dqij[ha]\n",
    "                        c = med(Ee[hope] ,Ee[kk])\n",
    "                        gamma_r = g(Ee[hope],Ee[kk],c,J[hope])\n",
    "                        hamiltonians_ac_a.add_d_q_block(e1,e2,cc, gamma = gamma_r)\n",
    "                        print(gamma_r)\n",
    "        else:\n",
    "            #print(kk,hope)\n",
    "            ha = 'dq' + str(kk) + str(hope)\n",
    "            ha_s = 'dq' + str(hope) + str(kk)\n",
    "            repeats.append(ha_s)\n",
    "            if ha_s not in repeats:\n",
    "                c = med(Ee[hope] ,Ee[kk])\n",
    "                gamma_r = g(Ee[hope],Ee[kk],c,J[kk])\n",
    "                cc = dqij[ha]\n",
    "                hamiltonians_ac_a.add_d_q_block(e2,e1,cc, gamma = gamma_r)\n",
    "                print(gamma_r)"
   ]
  },
  {
   "cell_type": "markdown",
   "metadata": {},
   "source": [
    "Now the laser is being set up so that it will excite the population for different levels "
   ]
  },
  {
   "cell_type": "code",
   "execution_count": 21,
   "metadata": {},
   "outputs": [],
   "source": [
    "\n",
    "#define the laser as a dictionairy the names in this have to corrospond to names defined in in the d_q add block if not specified default is ''g' 'e' labels \n",
    "e = (EEE['E_0'][3] - EEE['E_1'][3])\n",
    "e2 =(EEE['E_1'][3] - EEE['E_0'][3])\n",
    "def laser(delta,delta1,s1,s2,s3):\n",
    "  laserbeam = {}\n",
    "  laserbeam['H_0->H_6'] = pp.laserBeams(\n",
    "        [{'kvec':np.array([1., 0., 0.]), 'pol':np.array([0, 1, 0.]),\n",
    "          'pol_coord':'cartesian', 'delta':delta, 's':s1}],\n",
    "        beam_type= pp.infinitePlaneWaveBeam)\n",
    "  laserbeam['H_0->H_6'] = pp.laserBeams([{'kvec':np.array([0, 0, 1]), 'pol':np.array([0,0,1]),\n",
    "       'pol_coord':'spherical', 'delta':delta1, 's':s3}],beam_type =  pp.infinitePlaneWaveBeam)\n",
    "  #laserbeam['H_17->H_34'] = pp.laserBeams([{'kvec':np.array([0, 0, 1]), 'pol':np.array([0,0,1]),\n",
    "       #'pol_coord':'spherical', 'delta':delta1, 's':s3}],beam_type =  pp.infinitePlaneWaveBeam)#s3 adds a re\n",
    "  return laserbeam"
   ]
  },
  {
   "cell_type": "code",
   "execution_count": 22,
   "metadata": {},
   "outputs": [],
   "source": [
    "#actinum scattering plot\n",
    "# s = np.linspace(0.25,10,1000)\n",
    "# g = []\n",
    "# g1 =[]\n",
    "# g2 = []\n",
    "# g3 = []\n",
    "# for i in range(len(s)):\n",
    "#     print(i + 1)\n",
    "#     laserbeam = laser(e,s[i],0,0)\n",
    "#     rateeq = pp.rateeq(laserbeam , magField,Hamiltonian_ac)\n",
    "#     N0  = np.zeros((rateeq.hamiltonian.n,))\n",
    "#     N0[39] = 1\n",
    "#     rateeq.set_initial_pop(N0)\n",
    "#     rateeq.evolve_populations([0,50/gamma[0]],max_step=1/gamma[0])\n",
    "#     #g.append(rateeq.sol.y[87][53])\n",
    "#     #g1.append(rateeq.sol.y[72][53])\n",
    "#     #\n",
    "#     g2.append(rateeq.sol.y[71][53])\n",
    "#    # g3.append(rateeq.sol.y[70][53])"
   ]
  },
  {
   "cell_type": "code",
   "execution_count": 23,
   "metadata": {},
   "outputs": [
    {
     "name": "stdout",
     "output_type": "stream",
     "text": [
      "296\n"
     ]
    }
   ],
   "source": [
    "# this caculates the all the mf levels labels as a list |n,F,m_f>\n",
    "fff = []\n",
    "M = 0\n",
    "for i in aalt:\n",
    "    H = decays[decays['E'] == i]['HF'].tolist()[0]\n",
    "    for j in H:\n",
    "        if j == 0:\n",
    "            fff.append([M,j,0])  \n",
    "        else:        \n",
    "            for k in range(-j,j+1):\n",
    "                 fff.append([M,j,k])\n",
    "    M = M+1\n",
    "print(len(fff))\n",
    "maxi = len(fff) -1"
   ]
  },
  {
   "cell_type": "code",
   "execution_count": 24,
   "metadata": {},
   "outputs": [],
   "source": [
    "# the laser is the established as and then inptued into a function which caclutlates the reate eqaution\n",
    "laserbeam  = laser(e,e2,0,0,0)\n",
    "rateeq = pp.rateeq(laserbeam,magField,hamiltonians_ac_a)"
   ]
  },
  {
   "cell_type": "code",
   "execution_count": 25,
   "metadata": {},
   "outputs": [
    {
     "ename": "KeyboardInterrupt",
     "evalue": "",
     "output_type": "error",
     "traceback": [
      "\u001b[1;31m---------------------------------------------------------------------------\u001b[0m",
      "\u001b[1;31mKeyboardInterrupt\u001b[0m                         Traceback (most recent call last)",
      "Cell \u001b[1;32mIn[25], line 6\u001b[0m\n\u001b[0;32m      4\u001b[0m N0[maxi] \u001b[38;5;241m=\u001b[39m \u001b[38;5;241m1\u001b[39m\n\u001b[0;32m      5\u001b[0m rateeq\u001b[38;5;241m.\u001b[39mset_initial_pop(N0)\n\u001b[1;32m----> 6\u001b[0m \u001b[43mrateeq\u001b[49m\u001b[38;5;241;43m.\u001b[39;49m\u001b[43mevolve_populations\u001b[49m\u001b[43m(\u001b[49m\u001b[43m[\u001b[49m\u001b[38;5;241;43m0\u001b[39;49m\u001b[43m,\u001b[49m\u001b[38;5;241;43m0.000005\u001b[39;49m\u001b[38;5;241;43m/\u001b[39;49m\u001b[43mt_0\u001b[49m\u001b[43m]\u001b[49m\u001b[43m,\u001b[49m\u001b[43mmax_step\u001b[49m\u001b[38;5;241;43m=\u001b[39;49m\u001b[38;5;241;43m1\u001b[39;49m\u001b[43m)\u001b[49m\n",
      "File \u001b[1;32mc:\\Users\\benfo\\AppData\\Local\\Programs\\Python\\Python312\\Lib\\site-packages\\pylcp\\rateeq.py:538\u001b[0m, in \u001b[0;36mrateeq.evolve_populations\u001b[1;34m(self, t_span, **kwargs)\u001b[0m\n\u001b[0;32m    536\u001b[0m \u001b[38;5;28;01melse\u001b[39;00m:\n\u001b[0;32m    537\u001b[0m     Rev, Rijl \u001b[38;5;241m=\u001b[39m \u001b[38;5;28mself\u001b[39m\u001b[38;5;241m.\u001b[39mconstruct_evolution_matrix(\u001b[38;5;28mself\u001b[39m\u001b[38;5;241m.\u001b[39mr0, \u001b[38;5;28mself\u001b[39m\u001b[38;5;241m.\u001b[39mv0)\n\u001b[1;32m--> 538\u001b[0m     \u001b[38;5;28mself\u001b[39m\u001b[38;5;241m.\u001b[39msol \u001b[38;5;241m=\u001b[39m \u001b[43msolve_ivp\u001b[49m\u001b[43m(\u001b[49m\u001b[38;5;28;43;01mlambda\u001b[39;49;00m\u001b[43m \u001b[49m\u001b[43mt\u001b[49m\u001b[43m,\u001b[49m\u001b[43m \u001b[49m\u001b[43mN\u001b[49m\u001b[43m:\u001b[49m\u001b[43m \u001b[49m\u001b[43mRev\u001b[49m\u001b[43m \u001b[49m\u001b[38;5;241;43m@\u001b[39;49m\u001b[43m \u001b[49m\u001b[43mN\u001b[49m\u001b[43m,\u001b[49m\u001b[43m \u001b[49m\u001b[43mt_span\u001b[49m\u001b[43m,\u001b[49m\u001b[43m \u001b[49m\u001b[38;5;28;43mself\u001b[39;49m\u001b[38;5;241;43m.\u001b[39;49m\u001b[43mN0\u001b[49m\u001b[43m,\u001b[49m\u001b[43m \u001b[49m\u001b[38;5;241;43m*\u001b[39;49m\u001b[38;5;241;43m*\u001b[39;49m\u001b[43mkwargs\u001b[49m\u001b[43m)\u001b[49m\n\u001b[0;32m    539\u001b[0m     \u001b[38;5;28;01mreturn\u001b[39;00m \u001b[38;5;28mself\u001b[39m\u001b[38;5;241m.\u001b[39msol\n",
      "File \u001b[1;32mc:\\Users\\benfo\\AppData\\Local\\Programs\\Python\\Python312\\Lib\\site-packages\\scipy\\integrate\\_ivp\\ivp.py:655\u001b[0m, in \u001b[0;36msolve_ivp\u001b[1;34m(fun, t_span, y0, method, t_eval, dense_output, events, vectorized, args, **options)\u001b[0m\n\u001b[0;32m    653\u001b[0m status \u001b[38;5;241m=\u001b[39m \u001b[38;5;28;01mNone\u001b[39;00m\n\u001b[0;32m    654\u001b[0m \u001b[38;5;28;01mwhile\u001b[39;00m status \u001b[38;5;129;01mis\u001b[39;00m \u001b[38;5;28;01mNone\u001b[39;00m:\n\u001b[1;32m--> 655\u001b[0m     message \u001b[38;5;241m=\u001b[39m \u001b[43msolver\u001b[49m\u001b[38;5;241;43m.\u001b[39;49m\u001b[43mstep\u001b[49m\u001b[43m(\u001b[49m\u001b[43m)\u001b[49m\n\u001b[0;32m    657\u001b[0m     \u001b[38;5;28;01mif\u001b[39;00m solver\u001b[38;5;241m.\u001b[39mstatus \u001b[38;5;241m==\u001b[39m \u001b[38;5;124m'\u001b[39m\u001b[38;5;124mfinished\u001b[39m\u001b[38;5;124m'\u001b[39m:\n\u001b[0;32m    658\u001b[0m         status \u001b[38;5;241m=\u001b[39m \u001b[38;5;241m0\u001b[39m\n",
      "File \u001b[1;32mc:\\Users\\benfo\\AppData\\Local\\Programs\\Python\\Python312\\Lib\\site-packages\\scipy\\integrate\\_ivp\\base.py:197\u001b[0m, in \u001b[0;36mOdeSolver.step\u001b[1;34m(self)\u001b[0m\n\u001b[0;32m    195\u001b[0m \u001b[38;5;28;01melse\u001b[39;00m:\n\u001b[0;32m    196\u001b[0m     t \u001b[38;5;241m=\u001b[39m \u001b[38;5;28mself\u001b[39m\u001b[38;5;241m.\u001b[39mt\n\u001b[1;32m--> 197\u001b[0m     success, message \u001b[38;5;241m=\u001b[39m \u001b[38;5;28;43mself\u001b[39;49m\u001b[38;5;241;43m.\u001b[39;49m\u001b[43m_step_impl\u001b[49m\u001b[43m(\u001b[49m\u001b[43m)\u001b[49m\n\u001b[0;32m    199\u001b[0m     \u001b[38;5;28;01mif\u001b[39;00m \u001b[38;5;129;01mnot\u001b[39;00m success:\n\u001b[0;32m    200\u001b[0m         \u001b[38;5;28mself\u001b[39m\u001b[38;5;241m.\u001b[39mstatus \u001b[38;5;241m=\u001b[39m \u001b[38;5;124m'\u001b[39m\u001b[38;5;124mfailed\u001b[39m\u001b[38;5;124m'\u001b[39m\n",
      "File \u001b[1;32mc:\\Users\\benfo\\AppData\\Local\\Programs\\Python\\Python312\\Lib\\site-packages\\scipy\\integrate\\_ivp\\rk.py:144\u001b[0m, in \u001b[0;36mRungeKutta._step_impl\u001b[1;34m(self)\u001b[0m\n\u001b[0;32m    141\u001b[0m h \u001b[38;5;241m=\u001b[39m t_new \u001b[38;5;241m-\u001b[39m t\n\u001b[0;32m    142\u001b[0m h_abs \u001b[38;5;241m=\u001b[39m np\u001b[38;5;241m.\u001b[39mabs(h)\n\u001b[1;32m--> 144\u001b[0m y_new, f_new \u001b[38;5;241m=\u001b[39m \u001b[43mrk_step\u001b[49m\u001b[43m(\u001b[49m\u001b[38;5;28;43mself\u001b[39;49m\u001b[38;5;241;43m.\u001b[39;49m\u001b[43mfun\u001b[49m\u001b[43m,\u001b[49m\u001b[43m \u001b[49m\u001b[43mt\u001b[49m\u001b[43m,\u001b[49m\u001b[43m \u001b[49m\u001b[43my\u001b[49m\u001b[43m,\u001b[49m\u001b[43m \u001b[49m\u001b[38;5;28;43mself\u001b[39;49m\u001b[38;5;241;43m.\u001b[39;49m\u001b[43mf\u001b[49m\u001b[43m,\u001b[49m\u001b[43m \u001b[49m\u001b[43mh\u001b[49m\u001b[43m,\u001b[49m\u001b[43m \u001b[49m\u001b[38;5;28;43mself\u001b[39;49m\u001b[38;5;241;43m.\u001b[39;49m\u001b[43mA\u001b[49m\u001b[43m,\u001b[49m\n\u001b[0;32m    145\u001b[0m \u001b[43m                       \u001b[49m\u001b[38;5;28;43mself\u001b[39;49m\u001b[38;5;241;43m.\u001b[39;49m\u001b[43mB\u001b[49m\u001b[43m,\u001b[49m\u001b[43m \u001b[49m\u001b[38;5;28;43mself\u001b[39;49m\u001b[38;5;241;43m.\u001b[39;49m\u001b[43mC\u001b[49m\u001b[43m,\u001b[49m\u001b[43m \u001b[49m\u001b[38;5;28;43mself\u001b[39;49m\u001b[38;5;241;43m.\u001b[39;49m\u001b[43mK\u001b[49m\u001b[43m)\u001b[49m\n\u001b[0;32m    146\u001b[0m scale \u001b[38;5;241m=\u001b[39m atol \u001b[38;5;241m+\u001b[39m np\u001b[38;5;241m.\u001b[39mmaximum(np\u001b[38;5;241m.\u001b[39mabs(y), np\u001b[38;5;241m.\u001b[39mabs(y_new)) \u001b[38;5;241m*\u001b[39m rtol\n\u001b[0;32m    147\u001b[0m error_norm \u001b[38;5;241m=\u001b[39m \u001b[38;5;28mself\u001b[39m\u001b[38;5;241m.\u001b[39m_estimate_error_norm(\u001b[38;5;28mself\u001b[39m\u001b[38;5;241m.\u001b[39mK, h, scale)\n",
      "File \u001b[1;32mc:\\Users\\benfo\\AppData\\Local\\Programs\\Python\\Python312\\Lib\\site-packages\\scipy\\integrate\\_ivp\\rk.py:64\u001b[0m, in \u001b[0;36mrk_step\u001b[1;34m(fun, t, y, f, h, A, B, C, K)\u001b[0m\n\u001b[0;32m     62\u001b[0m \u001b[38;5;28;01mfor\u001b[39;00m s, (a, c) \u001b[38;5;129;01min\u001b[39;00m \u001b[38;5;28menumerate\u001b[39m(\u001b[38;5;28mzip\u001b[39m(A[\u001b[38;5;241m1\u001b[39m:], C[\u001b[38;5;241m1\u001b[39m:]), start\u001b[38;5;241m=\u001b[39m\u001b[38;5;241m1\u001b[39m):\n\u001b[0;32m     63\u001b[0m     dy \u001b[38;5;241m=\u001b[39m np\u001b[38;5;241m.\u001b[39mdot(K[:s]\u001b[38;5;241m.\u001b[39mT, a[:s]) \u001b[38;5;241m*\u001b[39m h\n\u001b[1;32m---> 64\u001b[0m     K[s] \u001b[38;5;241m=\u001b[39m fun(t \u001b[38;5;241m+\u001b[39m c \u001b[38;5;241m*\u001b[39m h, y \u001b[38;5;241m+\u001b[39m dy)\n\u001b[0;32m     66\u001b[0m y_new \u001b[38;5;241m=\u001b[39m y \u001b[38;5;241m+\u001b[39m h \u001b[38;5;241m*\u001b[39m np\u001b[38;5;241m.\u001b[39mdot(K[:\u001b[38;5;241m-\u001b[39m\u001b[38;5;241m1\u001b[39m]\u001b[38;5;241m.\u001b[39mT, B)\n\u001b[0;32m     67\u001b[0m f_new \u001b[38;5;241m=\u001b[39m fun(t \u001b[38;5;241m+\u001b[39m h, y_new)\n",
      "\u001b[1;31mKeyboardInterrupt\u001b[0m: "
     ]
    }
   ],
   "source": [
    "#this calculates the unit t_0  which is the time scale N0 is where all the intial population is put \n",
    "t_0 = 1/gamma[6]\n",
    "N0  = np.zeros((rateeq.hamiltonian.n,))\n",
    "N0[maxi] = 1\n",
    "rateeq.set_initial_pop(N0)\n",
    "rateeq.evolve_populations([0,0.000005/t_0],max_step=1)"
   ]
  },
  {
   "cell_type": "markdown",
   "metadata": {},
   "source": [
    "the initial population is now being put in and the popualtion them varrieed over time and plotted to see what happens"
   ]
  },
  {
   "cell_type": "code",
   "execution_count": null,
   "metadata": {},
   "outputs": [],
   "source": [
    "# this plots the rate eqautions to visualize population evolution this will be filterd based on levels that don't get more thana certain population  \n",
    "import matplotlib.colors as mcolors\n",
    "\n",
    "used_colors = set()\n",
    "\n",
    "def get_distinct_color():\n",
    "    base_colors = list(mcolors.TABLEAU_COLORS.values())  # You can use other color palettes as well\n",
    "    available_colors = [color for color in base_colors if color not in used_colors]\n",
    "\n",
    "    if not available_colors:\n",
    "        # Reset used_colors if all colors have been used\n",
    "        used_colors.clear()\n",
    "        available_colors = base_colors\n",
    "\n",
    "    color = available_colors[0]\n",
    "    used_colors.add(color)\n",
    "    return color\n",
    " \n",
    "import matplotlib.pyplot as plt\n",
    "\n",
    "fig, ax = plt.subplots(1, 1)\n",
    "\n",
    "i = 0\n",
    "ee = 1\n",
    "R = []\n",
    "for bob in range(len(rateeq.sol.y)):\n",
    "    ee = fff[bob][0]\n",
    "    ff = fff[bob][1]\n",
    "    m = fff[bob][2]\n",
    "    k = rateeq.sol.y[bob][99]\n",
    "    ll = rateeq.sol.y[bob][0]\n",
    "\n",
    "    # Get a distinct color\n",
    " \n",
    "\n",
    "    #Plot only if k > 0.01\n",
    "    if k > 0.0001:\n",
    "        color = get_distinct_color()\n",
    "        ax.plot(1e9*t_0*rateeq.sol.t, rateeq.sol.y[bob,],'--',color = color, linewidth=1.0,\n",
    "                label='|' + ','.join([str(ee), str(ff), str(m), str(bob)]) + '>')\n",
    "        i += 3\n",
    "\n",
    "plt.legend(fontsize='7.8', loc='upper right')\n",
    "plt.title('Cooling Ac-227')\n",
    "plt.xlabel('t($n$s)')\n",
    "plt.ylabel('N')\n",
    "plt.show()\n",
    "\n",
    "\n"
   ]
  },
  {
   "cell_type": "code",
   "execution_count": null,
   "metadata": {},
   "outputs": [
    {
     "data": {
      "text/plain": [
       "[11594.54, 16944.85, 25183.8, 27716.6, 29466.4, 32603.06, 35850.31]"
      ]
     },
     "execution_count": 493,
     "metadata": {},
     "output_type": "execute_result"
    }
   ],
   "source": [
    "aalt"
   ]
  },
  {
   "cell_type": "code",
   "execution_count": null,
   "metadata": {},
   "outputs": [],
   "source": [
    "def b(t,m):\n",
    "    v =((2*sp.k*t)/m)**(1/2)\n",
    "    return v \n",
    "\n"
   ]
  },
  {
   "cell_type": "code",
   "execution_count": null,
   "metadata": {},
   "outputs": [
    {
     "data": {
      "text/plain": [
       "270.6569465989613"
      ]
     },
     "execution_count": 334,
     "metadata": {},
     "output_type": "execute_result"
    }
   ],
   "source": [
    "v_s = b(1000,3.7694234e-25)\n",
    "v_s"
   ]
  },
  {
   "cell_type": "code",
   "execution_count": null,
   "metadata": {},
   "outputs": [],
   "source": [
    "N = 3.77e-25/(2*(2*np.pi*hbar))\n",
    "def a(v,g,l):\n",
    "  st = (v**2)*N*l/g\n",
    "  return st "
   ]
  },
  {
   "cell_type": "code",
   "execution_count": null,
   "metadata": {},
   "outputs": [
    {
     "data": {
      "text/plain": [
       "0.2146500064646314"
      ]
     },
     "execution_count": 336,
     "metadata": {},
     "output_type": "execute_result"
    }
   ],
   "source": [
    "a(v_s,4e7,412e-9)"
   ]
  },
  {
   "cell_type": "code",
   "execution_count": null,
   "metadata": {},
   "outputs": [
    {
     "ename": "NameError",
     "evalue": "name 'gg' is not defined",
     "output_type": "error",
     "traceback": [
      "\u001b[1;31m---------------------------------------------------------------------------\u001b[0m",
      "\u001b[1;31mNameError\u001b[0m                                 Traceback (most recent call last)",
      "Cell \u001b[1;32mIn[337], line 2\u001b[0m\n\u001b[0;32m      1\u001b[0m aa \u001b[38;5;241m=\u001b[39m []\n\u001b[1;32m----> 2\u001b[0m \u001b[38;5;28;01mfor\u001b[39;00m i \u001b[38;5;129;01min\u001b[39;00m \u001b[43mgg\u001b[49m:\n\u001b[0;32m      3\u001b[0m     aa\u001b[38;5;241m.\u001b[39mappend(a(v_s,i,\u001b[38;5;241m412e-9\u001b[39m,))\n",
      "\u001b[1;31mNameError\u001b[0m: name 'gg' is not defined"
     ]
    }
   ],
   "source": [
    "aa = []\n",
    "for i in gg:\n",
    "    aa.append(a(v_s,i,412e-9,))"
   ]
  },
  {
   "cell_type": "code",
   "execution_count": null,
   "metadata": {},
   "outputs": [],
   "source": []
  },
  {
   "cell_type": "code",
   "execution_count": null,
   "metadata": {},
   "outputs": [
    {
     "data": {
      "text/plain": [
       "1.1775246005690793e-06"
      ]
     },
     "execution_count": 181,
     "metadata": {},
     "output_type": "execute_result"
    }
   ],
   "source": [
    "gamma[6]\n",
    "1/gamma[6]g\n",
    "100*1/gamma[6]"
   ]
  },
  {
   "cell_type": "code",
   "execution_count": null,
   "metadata": {},
   "outputs": [
    {
     "data": {
      "text/plain": [
       "424.6195788677008"
      ]
     },
     "execution_count": 188,
     "metadata": {},
     "output_type": "execute_result"
    }
   ],
   "source": [
    "0.000005*gamma[6] "
   ]
  },
  {
   "cell_type": "code",
   "execution_count": null,
   "metadata": {},
   "outputs": [],
   "source": []
  }
 ],
 "metadata": {
  "kernelspec": {
   "display_name": "Python 3",
   "language": "python",
   "name": "python3"
  },
  "language_info": {
   "codemirror_mode": {
    "name": "ipython",
    "version": 3
   },
   "file_extension": ".py",
   "mimetype": "text/x-python",
   "name": "python",
   "nbconvert_exporter": "python",
   "pygments_lexer": "ipython3",
   "version": "3.12.3"
  }
 },
 "nbformat": 4,
 "nbformat_minor": 2
}
